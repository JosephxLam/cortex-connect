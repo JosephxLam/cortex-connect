{
 "cells": [
  {
   "cell_type": "code",
   "execution_count": null,
   "metadata": {
    "collapsed": true
   },
   "outputs": [],
   "source": []
  },
  {
   "cell_type": "code",
   "execution_count": null,
   "metadata": {
    "collapsed": true
   },
   "outputs": [],
   "source": [
    "from numpy.random import binomial\n",
    "#probability 0< f <= 0.5\n",
    "f = 0.3\n",
    "#number of neurons\n",
    "N = 10\n",
    "#number of random patterns\n",
    "p = 7\n",
    "\n",
    "def generate_data():\n",
    "    eta_i_mu = binomial(1,f, (N,p))\n",
    "    return(eta_i_mu)\n",
    "    \n",
    "    "
   ]
  },
  {
   "cell_type": "code",
   "execution_count": null,
   "metadata": {
    "collapsed": true
   },
   "outputs": [],
   "source": [
    "# https://blog.dbrgn.ch/2013/3/26/perceptrons-in-python/\n",
    "# http://machinelearningmastery.com/implement-perceptron-algorithm-scratch-python/\n",
    "\n",
    "from random import choice\n",
    "from numpy import array, dot, random\n",
    "\n",
    "\n",
    "#Decision boundary\n",
    "T = 0\n",
    "#Robustness\n",
    "K = 0\n",
    "\n",
    "# Unit_step does not include K, the robustness. \n",
    "# A preprocessing step will ignore data too close to the boundary.\n",
    "unit_step = lambda x: 0 if x < T else 1\n",
    "\n",
    "#No dummy, because the decision boundary stays in the unit_step function\n",
    "training_data = [ (array([0,0,1]), 0), (array([0,1,1]), 1), (array([1,0,1]), 1), (array([1,1,1]), 1), ]\n",
    "\n",
    "w = random.rand(3)\n",
    "errors = []\n",
    "l_rate = 0.2\n",
    "n = 100\n",
    "for i in xrange(n):\n",
    "    x, expected = choice(training_data)\n",
    "    result = dot(w, x)\n",
    "    if (result > T+K) or (result < T-K):\n",
    "        error = expected - unit_step(result)\n",
    "        errors.append(error)\n",
    "    w += l_rate * error * x\n",
    "    #Non-negativity constraint\n",
    "    w = w[w>0] * w\n",
    "\n",
    "for x, _ in training_data:\n",
    "    result = dot(x, w)\n",
    "    print(\"{}: {} -> {}\".format(x[:2], result, unit_step(result)))"
   ]
  },
  {
   "cell_type": "code",
   "execution_count": null,
   "metadata": {
    "collapsed": true
   },
   "outputs": [],
   "source": []
  },
  {
   "cell_type": "code",
   "execution_count": null,
   "metadata": {
    "collapsed": true
   },
   "outputs": [],
   "source": []
  }
 ],
 "metadata": {
  "kernelspec": {
   "display_name": "py35",
   "language": "python",
   "name": "python3"
  },
  "language_info": {
   "codemirror_mode": {
    "name": "ipython",
    "version": 3
   },
   "file_extension": ".py",
   "mimetype": "text/x-python",
   "name": "python",
   "nbconvert_exporter": "python",
   "pygments_lexer": "ipython3",
   "version": "3.5.2"
  }
 },
 "nbformat": 4,
 "nbformat_minor": 2
}
