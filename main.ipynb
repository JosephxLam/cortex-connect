{
 "cells": [
  {
   "cell_type": "code",
   "execution_count": null,
   "metadata": {
    "collapsed": true
   },
   "outputs": [],
   "source": []
  },
  {
   "cell_type": "code",
   "execution_count": 1,
   "metadata": {
    "collapsed": true
   },
   "outputs": [],
   "source": [
    "%matplotlib inline\n",
    "\n",
    "import matplotlib.pyplot as plt"
   ]
  },
  {
   "cell_type": "code",
   "execution_count": 103,
   "metadata": {
    "collapsed": true
   },
   "outputs": [],
   "source": [
    "from numpy.random import binomial\n",
    "#probability 0< f <= 0.5\n",
    "f = 0.5\n",
    "\n",
    "#number of neurons\n",
    "N = 30\n",
    "\n",
    "#Decision boundary (arbitrary and held constant)\n",
    "T = 5\n",
    "\n",
    "#Robustness\n",
    "#Either defined with K, or with rho\n",
    "\"\"\"\n",
    "K = 0\n",
    "wAverage = T/(f*N)\n",
    "# for different rescaled robustness parameters:\n",
    "rho =K / (wAverage * np.sqrt(f*(1-f)*N))\n",
    "\"\"\"\n",
    "wAverage = T/(f*N)\n",
    "rho = 1.\n",
    "K = rho * wAverage * np.sqrt(f*(1-f)*N)\n",
    "\n",
    "kappa = K/np.sqrt(N)\n",
    "\n",
    "p = 2*N"
   ]
  },
  {
   "cell_type": "code",
   "execution_count": 56,
   "metadata": {
    "collapsed": false
   },
   "outputs": [
    {
     "name": "stderr",
     "output_type": "stream",
     "text": [
      "C:\\Users\\josephxlam\\Anaconda3\\envs\\py35\\lib\\site-packages\\ipykernel\\__main__.py:33: RuntimeWarning: divide by zero encountered in true_divide\n",
      "C:\\Users\\josephxlam\\Anaconda3\\envs\\py35\\lib\\site-packages\\scipy\\optimize\\minpack.py:161: RuntimeWarning: The iteration is not making good progress, as measured by the \n",
      "  improvement from the last five Jacobian evaluations.\n",
      "  warnings.warn(msg, RuntimeWarning)\n"
     ]
    }
   ],
   "source": [
    "#Code de Vincent : replica-cavity.ipynb\n",
    "#Changement de notation p -> p_eps\n",
    "\n",
    "#For defining alpha_c\n",
    "##The critical capacity is given by alpha_c != 2 = p/N as N tends towards infinity\n",
    "\n",
    "from scipy.optimize import fsolve\n",
    "from scipy.stats import norm\n",
    "\n",
    "#TODO\n",
    "kappa_tilde = 1.\n",
    "\n",
    "\n",
    "#1- Get M_tilde via Eq. (22)\n",
    "def p_eps(eps):\n",
    "    return f*eps + (1-eps)/2\n",
    "func = lambda x: np.sum([p_eps(eps) * eps * (G(-kappa_tilde + eps*f*x) - (-kappa_tilde + eps*f*x)*H(-kappa_tilde + eps*f*x))  for eps in [-1,1]])\n",
    "M_tilde_initial_guess = 0.5\n",
    "M_tilde = fsolve(func, M_tilde_initial_guess)\n",
    "\n",
    "\n",
    "\n",
    "def G(x):\n",
    "    return np.exp(-x**2/2)/np.sqrt(2*np.pi)\n",
    "\n",
    "#2- Get tau_eps via Eq. (15)\n",
    "def tau(eps):\n",
    "    return -kappa_tilde + eps*f*M_tilde\n",
    "\n",
    "\n",
    "def H(x):\n",
    "    return 1 - norm.cdf(x, loc=0, scale=1)\n",
    "\n",
    "#3- Get B via Eq. (27)\n",
    "func = lambda x: ((1+x**2)*H(x)-x*G(x))/H(x) - np.sum([(f*eps + (1-eps)/2) * H(eps) for eps in [-1,1]]) / np.sum([(f*eps + (1-eps)/2) * ((1+tau(eps)**2)* H(tau(eps)) - tau(eps)*G(tau(eps))) for eps in [-1,1]])\n",
    "B_initial_guess = 0.5\n",
    "B = fsolve(func, B_initial_guess)\n",
    "\n",
    "alpha_c = H(B) / np.sum([p_eps(eps) * H(tau(eps)) for eps in [-1,1]])\n"
   ]
  },
  {
   "cell_type": "code",
   "execution_count": null,
   "metadata": {
    "collapsed": false
   },
   "outputs": [],
   "source": [
    "alpha_c"
   ]
  },
  {
   "cell_type": "code",
   "execution_count": 50,
   "metadata": {
    "collapsed": false
   },
   "outputs": [
    {
     "data": {
      "text/plain": [
       "0.84134474606854293"
      ]
     },
     "execution_count": 50,
     "metadata": {},
     "output_type": "execute_result"
    }
   ],
   "source": [
    "np.sum([p_eps(eps) * H(tau(eps)) for eps in [-1,1]])"
   ]
  },
  {
   "cell_type": "code",
   "execution_count": 104,
   "metadata": {
    "collapsed": true
   },
   "outputs": [],
   "source": [
    "#number of random patterns\n",
    "#http://www.cell.com/cms/attachment/572560/4239133/mmc1.pdf\n",
    "#the choice of alpha_c = H(B)/[f'H(tauMinus) + (1-f')H(tauPlus)]\n",
    "#Like in Gutfreund and Stein (1990), we suppose f'=f\n",
    "\n",
    "p = 2*N\n",
    "\n",
    "def generate_data():\n",
    "    eta = binomial(1,f,(1,N))\n",
    "    return(eta)"
   ]
  },
  {
   "cell_type": "code",
   "execution_count": 105,
   "metadata": {
    "collapsed": true
   },
   "outputs": [],
   "source": [
    "def testLearn(training_data, w):\n",
    "    for mu in range(training_data.shape[0]):\n",
    "        for i in range(training_data.shape[1]):\n",
    "            x = training_data[mu,np.arange(training_data.shape[1])!=i]\n",
    "            wi = w[i,np.arange(training_data.shape[1])!=i]\n",
    "            expected = training_data[mu,i]\n",
    "            result = dot(x, wi)\n",
    "            if unit_step(result) != expected:\n",
    "                return False\n",
    "    return True"
   ]
  },
  {
   "cell_type": "code",
   "execution_count": null,
   "metadata": {
    "collapsed": false
   },
   "outputs": [
    {
     "name": "stdout",
     "output_type": "stream",
     "text": [
      "converged\n",
      "2\n",
      "converged\n",
      "3\n",
      "converged\n",
      "4\n",
      "converged\n",
      "5\n",
      "converged\n",
      "6\n",
      "converged\n",
      "7\n",
      "converged\n",
      "8\n",
      "converged\n",
      "9\n",
      "converged\n",
      "10\n",
      "converged\n",
      "11\n",
      "converged\n",
      "12\n"
     ]
    }
   ],
   "source": [
    "#Network storing fixed-point attractors\n",
    "\n",
    "# https://blog.dbrgn.ch/2013/3/26/perceptrons-in-python/\n",
    "# http://machinelearningmastery.com/implement-perceptron-algorithm-scratch-python/\n",
    "\n",
    "from random import choice\n",
    "from numpy import array, dot, random\n",
    "import numpy as np\n",
    "\n",
    "# Unit_step does not include K, the robustness. \n",
    "# A preprocessing step will ignore data too close to the boundary.\n",
    "unit_step = lambda x: 0 if x < T else 1\n",
    "\n",
    "training_data = generate_data()\n",
    "\n",
    "w = random.uniform(0,2*T/(f*N),(N,N))\n",
    "l_rate = 0.01*T\n",
    "\n",
    "while l_rate > T * 1e-6:\n",
    "    iteration = 0\n",
    "    converged = testLearn(training_data, w)\n",
    "    while (not converged) and (iteration < 1e6):\n",
    "            \n",
    "        mu = random.randint(training_data.shape[0])\n",
    "        for i in range(training_data.shape[1]):\n",
    "            x = training_data[mu,np.arange(training_data.shape[1])!=i]\n",
    "            wi = w[i,np.arange(training_data.shape[1])!=i]\n",
    "            expected = training_data[mu,i]\n",
    "            result = dot(wi, x)\n",
    "            if (2*expected - 1)*(result - T) <= K:\n",
    "                wi += l_rate * (2*expected - 1) * x\n",
    "                #Non-negativity constraint\n",
    "                w[i,np.arange(training_data.shape[1])!=i] = (wi>0) * wi\n",
    "\n",
    "        converged = testLearn(training_data, w)\n",
    "        iteration += 1\n",
    "    if converged:\n",
    "        print(\"converged\")\n",
    "        \n",
    "        training_data = np.vstack((training_data,generate_data()))\n",
    "    else:\n",
    "        print(\"not\")\n",
    "        l_rate /= 2\n",
    "    print(training_data.shape[0])"
   ]
  },
  {
   "cell_type": "code",
   "execution_count": 89,
   "metadata": {
    "collapsed": false
   },
   "outputs": [
    {
     "data": {
      "text/plain": [
       "array([[1, 0, 1, 0, 1, 0, 1, 0, 1, 1],\n",
       "       [1, 1, 0, 0, 1, 0, 0, 1, 1, 1],\n",
       "       [1, 1, 0, 0, 0, 0, 0, 1, 0, 0],\n",
       "       [1, 1, 1, 0, 1, 1, 1, 0, 1, 0],\n",
       "       [0, 1, 1, 0, 0, 1, 1, 0, 0, 0],\n",
       "       [1, 1, 0, 1, 0, 0, 1, 0, 0, 1],\n",
       "       [1, 0, 0, 0, 0, 0, 1, 0, 1, 0],\n",
       "       [0, 1, 0, 0, 1, 1, 1, 1, 1, 1],\n",
       "       [0, 1, 0, 0, 1, 0, 1, 1, 0, 0],\n",
       "       [1, 0, 0, 0, 0, 1, 0, 0, 0, 1],\n",
       "       [0, 0, 1, 1, 0, 1, 0, 0, 0, 1],\n",
       "       [1, 1, 1, 0, 0, 0, 0, 1, 0, 0],\n",
       "       [0, 0, 0, 1, 1, 0, 1, 0, 0, 0],\n",
       "       [0, 1, 1, 0, 0, 1, 1, 1, 1, 1],\n",
       "       [0, 0, 0, 1, 1, 0, 1, 0, 1, 1],\n",
       "       [1, 1, 1, 0, 0, 0, 0, 1, 1, 1],\n",
       "       [0, 0, 1, 0, 0, 0, 0, 0, 1, 1],\n",
       "       [0, 0, 1, 0, 1, 1, 0, 0, 1, 0],\n",
       "       [1, 1, 1, 1, 1, 1, 0, 1, 0, 1],\n",
       "       [0, 1, 0, 0, 1, 0, 0, 0, 0, 1]])"
      ]
     },
     "execution_count": 89,
     "metadata": {},
     "output_type": "execute_result"
    }
   ],
   "source": [
    "generate_data()"
   ]
  },
  {
   "cell_type": "code",
   "execution_count": null,
   "metadata": {
    "collapsed": true
   },
   "outputs": [],
   "source": [
    "K*sqrt(N)\n",
    "\n",
    "K / Wbar \n",
    "\n",
    "\n",
    "K * sqrt(N)"
   ]
  },
  {
   "cell_type": "code",
   "execution_count": null,
   "metadata": {
    "collapsed": false
   },
   "outputs": [],
   "source": [
    "np.save(\"w.npy\", w)\n",
    "np.save(\"training_data.npy\", training_data)"
   ]
  },
  {
   "cell_type": "code",
   "execution_count": 73,
   "metadata": {
    "collapsed": false
   },
   "outputs": [
    {
     "data": {
      "text/plain": [
       "0"
      ]
     },
     "execution_count": 73,
     "metadata": {},
     "output_type": "execute_result"
    }
   ],
   "source": [
    "(1)"
   ]
  },
  {
   "cell_type": "code",
   "execution_count": 74,
   "metadata": {
    "collapsed": false
   },
   "outputs": [],
   "source": [
    "import numpy as np\n",
    "w = np.load(\"w.npy\")\n",
    "training_data = np.load(\"training_data.npy\")"
   ]
  },
  {
   "cell_type": "code",
   "execution_count": 64,
   "metadata": {
    "collapsed": false
   },
   "outputs": [
    {
     "name": "stdout",
     "output_type": "stream",
     "text": [
      "0: 5.25 -> 1\n",
      "1: 5.9 -> 1\n",
      "0: 4.99 -> 0\n",
      "0: 5.83 -> 1\n",
      "0: 4.09 -> 0\n"
     ]
    }
   ],
   "source": [
    "# Network storing sequences\n",
    "\n",
    "# https://blog.dbrgn.ch/2013/3/26/perceptrons-in-python/\n",
    "# http://machinelearningmastery.com/implement-perceptron-algorithm-scratch-python/\n",
    "\n",
    "from random import choice\n",
    "from numpy import array, dot, random\n",
    "\n",
    "# Unit_step does not include K, the robustness. \n",
    "# A preprocessing step will ignore data too close to the boundary.\n",
    "unit_step = lambda x: 0 if x < T else 1\n",
    "\n",
    "#No dummy, because the decision boundary stays in the unit_step function\n",
    "training_data = generate_data()\n",
    "\n",
    "w = random.uniform(0,2*T/(f*N),(N,N))\n",
    "l_rate = 0.01*\n",
    "for mu in range(training_data.shape[0]-1):\n",
    "    x = training_data[mu,:]\n",
    "    for i in range(training_data.shape[1]):\n",
    "        \n",
    "        # Only differences with fixed-point attractors\n",
    "        wi = w[i,:]\n",
    "        expected = training_data[mu+1,i]\n",
    "        result = dot(wi, x)\n",
    "        \n",
    "        if (2*expected - 1)*(result - T) <= kappa:\n",
    "            wi += l_rate * (2*expected - 1) * x\n",
    "            #Non-negativity constraint\n",
    "            w[i,:] = (wi>0) * wi\n",
    "            \n",
    "\n",
    "for mu in range(training_data.shape[0]-1):\n",
    "    x = training_data[mu,:]\n",
    "    for i in range(training_data.shape[1]):\n",
    "        expected = training_data[mu+1,i]\n",
    "        wi = w[i,:]\n",
    "        result = dot(x, wi)\n",
    "        if mu < 1:\n",
    "            if i < 5:\n",
    "                print(\"{}: {} -> {}\".format(expected, result, unit_step(result)))"
   ]
  },
  {
   "cell_type": "code",
   "execution_count": 65,
   "metadata": {
    "collapsed": false
   },
   "outputs": [
    {
     "data": {
      "text/plain": [
       "1600"
      ]
     },
     "execution_count": 65,
     "metadata": {},
     "output_type": "execute_result"
    }
   ],
   "source": [
    "p"
   ]
  },
  {
   "cell_type": "code",
   "execution_count": null,
   "metadata": {
    "collapsed": true
   },
   "outputs": [],
   "source": []
  },
  {
   "cell_type": "markdown",
   "metadata": {},
   "source": [
    "## Distribution of synaptic weights"
   ]
  },
  {
   "cell_type": "code",
   "execution_count": null,
   "metadata": {
    "collapsed": false
   },
   "outputs": [],
   "source": []
  },
  {
   "cell_type": "code",
   "execution_count": null,
   "metadata": {
    "collapsed": true
   },
   "outputs": [],
   "source": []
  },
  {
   "cell_type": "code",
   "execution_count": 69,
   "metadata": {
    "collapsed": false,
    "scrolled": true
   },
   "outputs": [
    {
     "data": {
      "image/png": "[encoded data removed]",
      "text/plain": [
       "<matplotlib.figure.Figure at 0x24f01d7dd68>"
      ]
     },
     "metadata": {},
     "output_type": "display_data"
    }
   ],
   "source": [
    "#Figure 2.a\n",
    "plt.hist(w.flatten(), bins = 100, normed = True)\n",
    "plt.show()"
   ]
  },
  {
   "cell_type": "code",
   "execution_count": null,
   "metadata": {
    "collapsed": true
   },
   "outputs": [],
   "source": []
  },
  {
   "cell_type": "code",
   "execution_count": 70,
   "metadata": {
    "collapsed": false
   },
   "outputs": [
    {
     "name": "stdout",
     "output_type": "stream",
     "text": [
      "1.0\n",
      "0.634990625\n"
     ]
    }
   ],
   "source": [
    "# Figure 2.b\n",
    "# distribution synaptic weights (histogram)\n",
    "\n",
    "print(rho)\n",
    "connectionProba = (w>0).sum()/(N*N)\n",
    "print(connectionProba)"
   ]
  },
  {
   "cell_type": "code",
   "execution_count": null,
   "metadata": {
    "collapsed": false
   },
   "outputs": [],
   "source": []
  },
  {
   "cell_type": "code",
   "execution_count": null,
   "metadata": {
    "collapsed": true
   },
   "outputs": [],
   "source": []
  },
  {
   "cell_type": "code",
   "execution_count": null,
   "metadata": {
    "collapsed": true
   },
   "outputs": [],
   "source": []
  },
  {
   "cell_type": "markdown",
   "metadata": {},
   "source": [
    "## Statistics of two-neuron bidirectional connectivity"
   ]
  },
  {
   "cell_type": "code",
   "execution_count": 5,
   "metadata": {
    "collapsed": false
   },
   "outputs": [
    {
     "data": {
      "text/plain": [
       "<matplotlib.image.AxesImage at 0x24f69747c50>"
      ]
     },
     "execution_count": 5,
     "metadata": {},
     "output_type": "execute_result"
    },
    {
     "data": {
      "image/png": "[encoded data removed]",
      "text/plain": [
       "<matplotlib.figure.Figure at 0x24f696deda0>"
      ]
     },
     "metadata": {},
     "output_type": "display_data"
    }
   ],
   "source": [
    "#Figure 3A\n",
    "\n",
    "#For attractor, the diagonal is apparent\n",
    "#For the two interpretations, with sequences, we only get random noise\n",
    "\n",
    "\n",
    "plt.imshow(w, cmap = 'hot')"
   ]
  },
  {
   "cell_type": "code",
   "execution_count": null,
   "metadata": {
    "collapsed": false
   },
   "outputs": [],
   "source": []
  },
  {
   "cell_type": "code",
   "execution_count": null,
   "metadata": {
    "collapsed": false
   },
   "outputs": [],
   "source": []
  },
  {
   "cell_type": "code",
   "execution_count": null,
   "metadata": {
    "collapsed": false
   },
   "outputs": [],
   "source": []
  },
  {
   "cell_type": "code",
   "execution_count": 6,
   "metadata": {
    "collapsed": true
   },
   "outputs": [],
   "source": [
    "#Construction of an erdos-renyi network.\n",
    "#\n",
    "\n",
    "import networkx\n",
    "\n",
    "randomGraph = networkx.gnm_random_graph(N, (w>0).sum(), directed = True)\n"
   ]
  },
  {
   "cell_type": "code",
   "execution_count": null,
   "metadata": {
    "collapsed": false
   },
   "outputs": [],
   "source": [
    "randomGraph.edges()"
   ]
  },
  {
   "cell_type": "code",
   "execution_count": 22,
   "metadata": {
    "collapsed": false
   },
   "outputs": [],
   "source": [
    "randomWeights = np.zeros((N,N))\n",
    "for coordinate in randomGraph.edges():\n",
    "    randomWeights[coordinate] = 1."
   ]
  },
  {
   "cell_type": "code",
   "execution_count": 21,
   "metadata": {
    "collapsed": false
   },
   "outputs": [
    {
     "data": {
      "text/plain": [
       "<matplotlib.image.AxesImage at 0x24f6a2940f0>"
      ]
     },
     "execution_count": 21,
     "metadata": {},
     "output_type": "execute_result"
    },
    {
     "data": {
      "image/png": "[encoded data removed]",
      "text/plain": [
       "<matplotlib.figure.Figure at 0x24f6a233eb8>"
      ]
     },
     "metadata": {},
     "output_type": "display_data"
    }
   ],
   "source": [
    "plt.imshow(randomWeights)"
   ]
  },
  {
   "cell_type": "code",
   "execution_count": 24,
   "metadata": {
    "collapsed": false
   },
   "outputs": [
    {
     "name": "stdout",
     "output_type": "stream",
     "text": [
      "1.2338263997\n"
     ]
    }
   ],
   "source": [
    "#Figure 3b\n",
    "\n",
    "countReciprocal = (w*w.T>0).sum()\n",
    "countReciprocalER = (randomWeights*randomWeights.T>0).sum()\n",
    "print(countReciprocal/countReciprocalER)"
   ]
  },
  {
   "cell_type": "code",
   "execution_count": 30,
   "metadata": {
    "collapsed": false
   },
   "outputs": [
    {
     "name": "stdout",
     "output_type": "stream",
     "text": [
      "0.45009\n",
      "0.603617\n"
     ]
    }
   ],
   "source": [
    "#Figure 4b\n",
    "\n",
    "#Random symmetric : plot y=x\n",
    "#Random assymmetric : plot y=x^2\n",
    "\n",
    "reciprocalProba = countReciprocal/(N*N)\n",
    "print(reciprocalProba)\n",
    "print(connectionProba)"
   ]
  },
  {
   "cell_type": "markdown",
   "metadata": {},
   "source": [
    "## Degree distributions"
   ]
  },
  {
   "cell_type": "code",
   "execution_count": null,
   "metadata": {
    "collapsed": false
   },
   "outputs": [],
   "source": [
    "Majorityness = []\n",
    "for i in range(training_data.shape[1]):\n",
    "    Majorityness.append(np.sum(training_data[:,i:i+1]*training_data)/(f*N*np.sum(training_data[:,i])))"
   ]
  },
  {
   "cell_type": "code",
   "execution_count": null,
   "metadata": {
    "collapsed": true
   },
   "outputs": [],
   "source": []
  },
  {
   "cell_type": "code",
   "execution_count": null,
   "metadata": {
    "collapsed": true
   },
   "outputs": [],
   "source": []
  },
  {
   "cell_type": "markdown",
   "metadata": {
    "collapsed": false
   },
   "source": [
    "## Inhibition model"
   ]
  },
  {
   "cell_type": "code",
   "execution_count": null,
   "metadata": {
    "collapsed": false
   },
   "outputs": [],
   "source": [
    "import numpy as np\n",
    "x = (training_data[mu,])"
   ]
  },
  {
   "cell_type": "code",
   "execution_count": null,
   "metadata": {
    "collapsed": false
   },
   "outputs": [],
   "source": [
    "training_data[mu,:]"
   ]
  },
  {
   "cell_type": "code",
   "execution_count": null,
   "metadata": {
    "collapsed": false
   },
   "outputs": [],
   "source": [
    "x"
   ]
  },
  {
   "cell_type": "code",
   "execution_count": null,
   "metadata": {
    "collapsed": true
   },
   "outputs": [],
   "source": []
  }
 ],
 "metadata": {
  "kernelspec": {
   "display_name": "py35",
   "language": "python",
   "name": "python3"
  },
  "language_info": {
   "codemirror_mode": {
    "name": "ipython",
    "version": 3
   },
   "file_extension": ".py",
   "mimetype": "text/x-python",
   "name": "python",
   "nbconvert_exporter": "python",
   "pygments_lexer": "ipython3",
   "version": "3.5.2"
  }
 },
 "nbformat": 4,
 "nbformat_minor": 2
}
