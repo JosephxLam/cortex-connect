{
 "cells": [
  {
   "cell_type": "code",
   "execution_count": null,
   "metadata": {
    "collapsed": true
   },
   "outputs": [],
   "source": []
  },
  {
   "cell_type": "code",
   "execution_count": 1,
   "metadata": {
    "collapsed": true
   },
   "outputs": [],
   "source": [
    "from numpy.random import binomial\n",
    "#probability 0< f <= 0.5\n",
    "f = 0.3\n",
    "#number of neurons\n",
    "N = 10\n",
    "#number of random patterns\n",
    "p = 7\n",
    "\n",
    "def generate_data():\n",
    "    eta_i_mu = binomial(1,f, (p,N))\n",
    "    return(eta_i_mu)\n",
    "    \n",
    "    "
   ]
  },
  {
   "cell_type": "code",
   "execution_count": 7,
   "metadata": {
    "collapsed": false
   },
   "outputs": [
    {
     "name": "stdout",
     "output_type": "stream",
     "text": [
      "1: 0.5048182454292507 -> 1\n",
      "0: -0.8063718732525773 -> 0\n",
      "0: 0.15071620286686388 -> 1\n",
      "0: 0.27297637256607893 -> 1\n",
      "0: -0.17702872056458024 -> 0\n",
      "0: -0.342971700467114 -> 0\n",
      "0: -0.16941832532113 -> 0\n",
      "1: 1.1642656274839478 -> 1\n",
      "0: -0.5872122383907095 -> 0\n",
      "0: 0.851503085211425 -> 1\n",
      "0: -0.20786284584590559 -> 0\n",
      "0: -0.11434896826924645 -> 0\n",
      "0: 0.26093183533967285 -> 1\n",
      "0: 0.14979045720113104 -> 1\n",
      "0: -0.003830924278800607 -> 0\n",
      "0: -0.5130614196071198 -> 0\n",
      "0: 0.0302120310467629 -> 1\n",
      "0: 0.33424629539972933 -> 1\n",
      "0: -0.09306178832069628 -> 0\n",
      "0: 0.04858146545024178 -> 1\n",
      "1: 0.9010779974324901 -> 1\n",
      "1: 0.5443879541749606 -> 1\n",
      "0: -1.0586183470662376 -> 0\n",
      "0: 0.3951240592441222 -> 1\n",
      "1: 0.49725644693999466 -> 1\n",
      "0: 0.4374277818275047 -> 1\n",
      "0: 0.5748557291745393 -> 1\n",
      "1: 1.177590708804898 -> 1\n",
      "0: 0.8974514045305169 -> 1\n",
      "0: 0.2931640887798018 -> 1\n",
      "1: 1.3054638745478448 -> 1\n",
      "0: -0.3793332169834036 -> 0\n",
      "0: 0.43025678871593664 -> 1\n",
      "0: 0.29436792454940275 -> 1\n",
      "0: 0.4785945564578447 -> 1\n",
      "0: -0.21532471076064685 -> 0\n",
      "0: 0.09241246236331419 -> 1\n",
      "0: 0.0006873727634768012 -> 1\n",
      "0: 0.07115758499904246 -> 1\n",
      "0: 0.19580949110293655 -> 1\n",
      "1: 0.38584824570739457 -> 1\n",
      "0: 0.7951930548905961 -> 1\n",
      "1: 2.4276828544459543 -> 1\n",
      "1: 2.074595651519722 -> 1\n",
      "1: 2.2926238966750994 -> 1\n",
      "0: 0.7050382672094296 -> 1\n",
      "1: 2.1155114697258006 -> 1\n",
      "0: 1.026365714433171 -> 1\n",
      "0: 0.24894585991595036 -> 1\n"
     ]
    }
   ],
   "source": [
    "# https://blog.dbrgn.ch/2013/3/26/perceptrons-in-python/\n",
    "# http://machinelearningmastery.com/implement-perceptron-algorithm-scratch-python/\n",
    "\n",
    "from random import choice\n",
    "from numpy import array, dot, random\n",
    "\n",
    "\n",
    "#Decision boundary\n",
    "T = 0\n",
    "#Robustness\n",
    "K = 0\n",
    "\n",
    "# Unit_step does not include K, the robustness. \n",
    "# A preprocessing step will ignore data too close to the boundary.\n",
    "unit_step = lambda x: 0 if x < T else 1\n",
    "\n",
    "#No dummy, because the decision boundary stays in the unit_step function\n",
    "training_data = generate_data()\n",
    "\n",
    "w = random.rand(N,N)\n",
    "errors = []\n",
    "l_rate = 0.2\n",
    "n = 100\n",
    "for mu in range(training_data.shape[0]):\n",
    "    x = training_data[mu,:]\n",
    "    for i in range(training_data.shape[0]):\n",
    "        expected = training_data[mu,i]\n",
    "        wi = w[i,:]\n",
    "        result = dot(wi, x)\n",
    "        if (result > T+K) or (result < T-K):\n",
    "            error = expected - unit_step(result)\n",
    "        else:\n",
    "            error = 1 if expected == 1 else -1\n",
    "        errors.append(error)\n",
    "        wi += l_rate * error * x\n",
    "        #Non-negativity constraint\n",
    "        wi = wi>0 * wi\n",
    "\n",
    "for mu in range(training_data.shape[0]):\n",
    "    x = training_data[mu,:]\n",
    "    for i in range(training_data.shape[0]):\n",
    "        expected = training_data[mu,i]\n",
    "        wi = w[i,:]\n",
    "        result = dot(x, wi)\n",
    "        print(\"{}: {} -> {}\".format(expected, result, unit_step(result)))"
   ]
  },
  {
   "cell_type": "code",
   "execution_count": null,
   "metadata": {
    "collapsed": true
   },
   "outputs": [],
   "source": []
  },
  {
   "cell_type": "code",
   "execution_count": null,
   "metadata": {
    "collapsed": true
   },
   "outputs": [],
   "source": []
  }
 ],
 "metadata": {
  "kernelspec": {
   "display_name": "py35",
   "language": "python",
   "name": "python3"
  },
  "language_info": {
   "codemirror_mode": {
    "name": "ipython",
    "version": 3
   },
   "file_extension": ".py",
   "mimetype": "text/x-python",
   "name": "python",
   "nbconvert_exporter": "python",
   "pygments_lexer": "ipython3",
   "version": "3.5.2"
  }
 },
 "nbformat": 4,
 "nbformat_minor": 2
}
