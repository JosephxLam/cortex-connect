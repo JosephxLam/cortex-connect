{
 "cells": [
  {
   "cell_type": "markdown",
   "metadata": {
    "collapsed": true
   },
   "source": [
    "# Perceptron"
   ]
  },
  {
   "cell_type": "code",
   "execution_count": 2,
   "metadata": {
    "collapsed": true
   },
   "outputs": [],
   "source": [
    "%matplotlib inline\n",
    "\n",
    "import matplotlib.pyplot as plt"
   ]
  },
  {
   "cell_type": "code",
   "execution_count": 3,
   "metadata": {
    "collapsed": false
   },
   "outputs": [],
   "source": [
    "import numpy as np\n",
    "from numpy.random import binomial\n",
    "#probability 0< f <= 0.5\n",
    "f = 0.5\n",
    "\n",
    "#number of neurons\n",
    "N = 100\n",
    "\n",
    "#Decision boundary (arbitrary and held constant)\n",
    "T = 100\n",
    "\n",
    "#Robustness\n",
    "#Either defined with K, or with rho\n",
    "\"\"\"\n",
    "K = T/10\n",
    "wAverage = T/(f*N)\n",
    "# for different rescaled robustness parameters:\n",
    "rho =K / (wAverage * np.sqrt(f*(1-f)*N))\n",
    "\"\"\"\n",
    "wAverage = T/(f*N)\n",
    "rho = 1.\n",
    "K = rho * wAverage * np.sqrt(f*(1-f)*N)"
   ]
  },
  {
   "cell_type": "code",
   "execution_count": 4,
   "metadata": {
    "collapsed": true
   },
   "outputs": [],
   "source": [
    "def generate_data(f, N, p=1):\n",
    "    eta = binomial(1,f,(p,N))\n",
    "    return(eta)"
   ]
  },
  {
   "cell_type": "markdown",
   "metadata": {},
   "source": [
    "## Network storing fixed-point attractors"
   ]
  },
  {
   "cell_type": "code",
   "execution_count": 5,
   "metadata": {
    "collapsed": true
   },
   "outputs": [],
   "source": [
    "def testLearn(training_data, w):\n",
    "    for mu in range(training_data.shape[0]):\n",
    "        eta = training_data[mu,:].reshape((-1,1))\n",
    "        result = dot(w,eta) - w.diagonal().reshape(-1,1) * eta\n",
    "        if ((2*eta - 1)*(result - T) <= K).any():\n",
    "            return False\n",
    "    return True"
   ]
  },
  {
   "cell_type": "markdown",
   "metadata": {},
   "source": [
    "Find maximal number of patterns which can be learned p_c.\n",
    "\n",
    "We could try to find the critical capacity alpha_c = p/N analytically (alpha_c = H(B)/[f'H(tauMinus) + (1-f')H(tauPlus)]) as in [27] at http://www.cell.com/cms/attachment/572560/4239133/mmc1.pdf. We suppose f'=f\n",
    "\n",
    "Besides, alpha_c -> 2 as N tends towards infinity."
   ]
  },
  {
   "cell_type": "code",
   "execution_count": 122,
   "metadata": {
    "collapsed": false,
    "scrolled": true
   },
   "outputs": [
    {
     "name": "stdout",
     "output_type": "stream",
     "text": [
      "0\n",
      "converged\n",
      "2\n",
      "0\n",
      "converged\n",
      "3\n",
      "0\n",
      "converged\n",
      "4\n",
      "0\n",
      "converged\n",
      "5\n",
      "0\n",
      "converged\n",
      "6\n",
      "0\n",
      "converged\n",
      "7\n",
      "0\n",
      "converged\n",
      "8\n",
      "0\n",
      "converged\n",
      "9\n",
      "0\n",
      "converged\n",
      "10\n",
      "0\n",
      "converged\n",
      "11\n",
      "0\n",
      "converged\n",
      "12\n",
      "0\n",
      "converged\n",
      "13\n",
      "0\n",
      "converged\n",
      "14\n",
      "0\n",
      "converged\n",
      "15\n",
      "0\n",
      "1000\n",
      "2000\n",
      "converged\n",
      "16\n",
      "0\n",
      "converged\n",
      "17\n",
      "0\n",
      "converged\n",
      "18\n",
      "0\n",
      "1000\n",
      "2000\n",
      "3000\n",
      "4000\n",
      "5000\n",
      "6000\n",
      "7000\n",
      "8000\n",
      "9000\n",
      "not\n",
      "18\n",
      "0\n",
      "1000\n",
      "2000\n",
      "3000\n",
      "4000\n",
      "5000\n",
      "6000\n",
      "7000\n",
      "8000\n",
      "9000\n",
      "not\n",
      "18\n",
      "0\n",
      "1000\n",
      "2000\n",
      "3000\n",
      "4000\n",
      "converged\n",
      "19\n",
      "0\n",
      "1000\n",
      "2000\n",
      "3000\n",
      "converged\n",
      "20\n",
      "0\n",
      "converged\n",
      "21\n",
      "0\n",
      "1000\n",
      "converged\n",
      "22\n",
      "0\n",
      "1000\n",
      "2000\n",
      "converged\n",
      "23\n",
      "0\n",
      "1000\n",
      "converged\n",
      "24\n",
      "0\n",
      "1000\n",
      "converged\n",
      "25\n",
      "0\n",
      "1000\n",
      "2000\n",
      "converged\n",
      "26\n",
      "0\n",
      "1000\n",
      "2000\n",
      "3000\n",
      "converged\n",
      "27\n",
      "0\n",
      "1000\n",
      "2000\n",
      "3000\n",
      "4000\n",
      "5000\n",
      "6000\n",
      "7000\n",
      "8000\n",
      "9000\n",
      "not\n",
      "27\n",
      "0\n",
      "1000\n",
      "2000\n",
      "3000\n",
      "converged\n",
      "28\n",
      "0\n",
      "1000\n",
      "2000\n",
      "3000\n",
      "converged\n",
      "29\n",
      "0\n",
      "1000\n",
      "2000\n",
      "3000\n",
      "4000\n",
      "5000\n",
      "6000\n",
      "converged\n"
     ]
    }
   ],
   "source": [
    "# https://blog.dbrgn.ch/2013/3/26/perceptrons-in-python/\n",
    "# http://machinelearningmastery.com/implement-perceptron-algorithm-scratch-python/\n",
    "\n",
    "from random import choice\n",
    "from numpy import array, dot, random\n",
    "import numpy as np\n",
    "\n",
    "training_data = generate_data(f, N)\n",
    "\n",
    "w = random.uniform(0,2*T/(f*N),(N,N))\n",
    "l_rate = 0.01*T\n",
    "\n",
    "while l_rate > T * 1e-6:\n",
    "    iteration = 0\n",
    "    converged = testLearn(training_data, w)\n",
    "    while (not converged) and (iteration < 1e4):\n",
    "        mu = random.randint(training_data.shape[0])\n",
    "        eta = training_data[mu,:].reshape((-1,1))\n",
    "        result = dot(w,eta) - w.diagonal().reshape(-1,1) * eta\n",
    "        untrained = np.nonzero((2*eta - 1)*(result - T) <= K)\n",
    "        DeltaW = l_rate * dot((2 * eta.reshape((-1,1)) - 1), eta.reshape((1,-1)))\n",
    "        np.fill_diagonal(DeltaW,0)\n",
    "        w[untrained,:] = np.add(w[untrained,:], DeltaW[untrained,:])\n",
    "        w = (w>0) * w\n",
    "        converged = testLearn(training_data, w)\n",
    "        if iteration  % 1000 == 0:\n",
    "            print(iteration)\n",
    "        iteration += 1\n",
    "        \n",
    "    if converged:\n",
    "        print(\"converged\")\n",
    "        #We have found p = 29 for our choice of parameters\n",
    "        if training_data.shape[0]<29:\n",
    "            training_data = np.vstack((training_data,generate_data(f,N)))\n",
    "        else:\n",
    "            break\n",
    "            \n",
    "    else:\n",
    "        print(\"not\")\n",
    "        l_rate /= 2\n",
    "    \n",
    "    print(training_data.shape[0])"
   ]
  },
  {
   "cell_type": "code",
   "execution_count": null,
   "metadata": {
    "collapsed": false
   },
   "outputs": [],
   "source": [
    "#We can save the weights for a given training data.\n",
    "np.save(\"w.npy\", w)\n",
    "np.save(\"training_data.npy\", training_data)"
   ]
  },
  {
   "cell_type": "code",
   "execution_count": null,
   "metadata": {
    "collapsed": true
   },
   "outputs": [],
   "source": [
    "import numpy as np\n",
    "w = np.load(\"w.npy\")\n",
    "training_data = np.load(\"training_data.npy\")"
   ]
  },
  {
   "cell_type": "markdown",
   "metadata": {},
   "source": [
    "## Network storing sequences"
   ]
  },
  {
   "cell_type": "code",
   "execution_count": 9,
   "metadata": {
    "collapsed": true
   },
   "outputs": [],
   "source": [
    "def testLearnSeq(training_data, w):\n",
    "    for mu in range(training_data.shape[0]-1):\n",
    "        etaMu = training_data[mu,:].reshape((-1,1))\n",
    "        etaMu1 = training_data[mu+1,:].reshape((-1,1))\n",
    "        result = dot(w,etaMu)\n",
    "        if ((2*etaMu1 - 1)*(result - T) <= K).any():\n",
    "            return False\n",
    "    return True"
   ]
  },
  {
   "cell_type": "code",
   "execution_count": 10,
   "metadata": {
    "collapsed": false
   },
   "outputs": [
    {
     "name": "stdout",
     "output_type": "stream",
     "text": [
      "0\n",
      "converged\n",
      "3\n",
      "0\n",
      "converged\n",
      "4\n",
      "0\n",
      "converged\n",
      "5\n",
      "0\n",
      "converged\n",
      "6\n",
      "0\n",
      "converged\n",
      "7\n",
      "0\n",
      "converged\n",
      "8\n",
      "0\n",
      "converged\n",
      "9\n",
      "0\n",
      "converged\n",
      "10\n",
      "0\n",
      "converged\n",
      "11\n",
      "0\n",
      "converged\n",
      "12\n",
      "0\n",
      "converged\n",
      "13\n",
      "0\n",
      "converged\n",
      "14\n",
      "0\n",
      "converged\n",
      "15\n",
      "0\n",
      "converged\n",
      "16\n",
      "0\n",
      "converged\n",
      "17\n",
      "0\n",
      "converged\n",
      "18\n",
      "0\n",
      "converged\n",
      "19\n",
      "0\n",
      "converged\n",
      "20\n",
      "0\n",
      "converged\n",
      "21\n",
      "0\n",
      "converged\n",
      "22\n",
      "0\n",
      "1000\n",
      "2000\n",
      "converged\n",
      "23\n",
      "0\n",
      "1000\n",
      "converged\n",
      "24\n",
      "0\n",
      "1000\n",
      "2000\n",
      "3000\n",
      "4000\n",
      "5000\n",
      "6000\n",
      "7000\n"
     ]
    },
    {
     "ename": "KeyboardInterrupt",
     "evalue": "",
     "output_type": "error",
     "traceback": [
      "\u001b[0;31m---------------------------------------------------------------------------\u001b[0m",
      "\u001b[0;31mKeyboardInterrupt\u001b[0m                         Traceback (most recent call last)",
      "\u001b[0;32m<ipython-input-10-237bded1c41c>\u001b[0m in \u001b[0;36m<module>\u001b[0;34m()\u001b[0m\n\u001b[1;32m     20\u001b[0m         \u001b[0mresult\u001b[0m \u001b[1;33m=\u001b[0m \u001b[0mdot\u001b[0m\u001b[1;33m(\u001b[0m\u001b[0mw\u001b[0m\u001b[1;33m,\u001b[0m\u001b[0metaMu\u001b[0m\u001b[1;33m)\u001b[0m\u001b[1;33m\u001b[0m\u001b[0m\n\u001b[1;32m     21\u001b[0m         \u001b[0muntrained\u001b[0m \u001b[1;33m=\u001b[0m \u001b[0mnp\u001b[0m\u001b[1;33m.\u001b[0m\u001b[0mnonzero\u001b[0m\u001b[1;33m(\u001b[0m\u001b[1;33m(\u001b[0m\u001b[1;36m2\u001b[0m\u001b[1;33m*\u001b[0m\u001b[0metaMu1\u001b[0m \u001b[1;33m-\u001b[0m \u001b[1;36m1\u001b[0m\u001b[1;33m)\u001b[0m\u001b[1;33m*\u001b[0m\u001b[1;33m(\u001b[0m\u001b[0mresult\u001b[0m \u001b[1;33m-\u001b[0m \u001b[0mT\u001b[0m\u001b[1;33m)\u001b[0m \u001b[1;33m<=\u001b[0m \u001b[0mK\u001b[0m\u001b[1;33m)\u001b[0m\u001b[1;33m\u001b[0m\u001b[0m\n\u001b[0;32m---> 22\u001b[0;31m         \u001b[0mDeltaW\u001b[0m \u001b[1;33m=\u001b[0m \u001b[0ml_rate\u001b[0m \u001b[1;33m*\u001b[0m \u001b[0mdot\u001b[0m\u001b[1;33m(\u001b[0m\u001b[1;33m(\u001b[0m\u001b[1;36m2\u001b[0m \u001b[1;33m*\u001b[0m \u001b[0metaMu1\u001b[0m\u001b[1;33m.\u001b[0m\u001b[0mreshape\u001b[0m\u001b[1;33m(\u001b[0m\u001b[1;33m(\u001b[0m\u001b[1;33m-\u001b[0m\u001b[1;36m1\u001b[0m\u001b[1;33m,\u001b[0m\u001b[1;36m1\u001b[0m\u001b[1;33m)\u001b[0m\u001b[1;33m)\u001b[0m \u001b[1;33m-\u001b[0m \u001b[1;36m1\u001b[0m\u001b[1;33m)\u001b[0m\u001b[1;33m,\u001b[0m \u001b[0metaMu\u001b[0m\u001b[1;33m.\u001b[0m\u001b[0mreshape\u001b[0m\u001b[1;33m(\u001b[0m\u001b[1;33m(\u001b[0m\u001b[1;36m1\u001b[0m\u001b[1;33m,\u001b[0m\u001b[1;33m-\u001b[0m\u001b[1;36m1\u001b[0m\u001b[1;33m)\u001b[0m\u001b[1;33m)\u001b[0m\u001b[1;33m)\u001b[0m\u001b[1;33m\u001b[0m\u001b[0m\n\u001b[0m\u001b[1;32m     23\u001b[0m         \u001b[0mw\u001b[0m\u001b[1;33m[\u001b[0m\u001b[0muntrained\u001b[0m\u001b[1;33m,\u001b[0m\u001b[1;33m:\u001b[0m\u001b[1;33m]\u001b[0m \u001b[1;33m=\u001b[0m \u001b[0mnp\u001b[0m\u001b[1;33m.\u001b[0m\u001b[0madd\u001b[0m\u001b[1;33m(\u001b[0m\u001b[0mw\u001b[0m\u001b[1;33m[\u001b[0m\u001b[0muntrained\u001b[0m\u001b[1;33m,\u001b[0m\u001b[1;33m:\u001b[0m\u001b[1;33m]\u001b[0m\u001b[1;33m,\u001b[0m \u001b[0mDeltaW\u001b[0m\u001b[1;33m[\u001b[0m\u001b[0muntrained\u001b[0m\u001b[1;33m,\u001b[0m\u001b[1;33m:\u001b[0m\u001b[1;33m]\u001b[0m\u001b[1;33m)\u001b[0m\u001b[1;33m\u001b[0m\u001b[0m\n\u001b[1;32m     24\u001b[0m         \u001b[0mw\u001b[0m \u001b[1;33m=\u001b[0m \u001b[1;33m(\u001b[0m\u001b[0mw\u001b[0m\u001b[1;33m>\u001b[0m\u001b[1;36m0\u001b[0m\u001b[1;33m)\u001b[0m \u001b[1;33m*\u001b[0m \u001b[0mw\u001b[0m\u001b[1;33m\u001b[0m\u001b[0m\n",
      "\u001b[0;31mKeyboardInterrupt\u001b[0m: "
     ]
    }
   ],
   "source": [
    "# https://blog.dbrgn.ch/2013/3/26/perceptrons-in-python/\n",
    "# http://machinelearningmastery.com/implement-perceptron-algorithm-scratch-python/\n",
    "\n",
    "from random import choice\n",
    "from numpy import array, dot, random\n",
    "import numpy as np\n",
    "\n",
    "training_data = generate_data(f,N,2)\n",
    "\n",
    "w = random.uniform(0,2*T/(f*N),(N,N))\n",
    "l_rate = 0.01*T\n",
    "\n",
    "while l_rate > T * 1e-6:\n",
    "    iteration = 0\n",
    "    converged = testLearn(training_data, w)\n",
    "    while (not converged) and (iteration < 1e4):\n",
    "        mu = random.randint(training_data.shape[0]-1)\n",
    "        etaMu = training_data[mu,:].reshape((-1,1))\n",
    "        etaMu1 = training_data[mu+1,:].reshape((-1,1))\n",
    "        result = dot(w,etaMu)\n",
    "        untrained = np.nonzero((2*etaMu1 - 1)*(result - T) <= K)\n",
    "        DeltaW = l_rate * dot((2 * etaMu1.reshape((-1,1)) - 1), etaMu.reshape((1,-1)))\n",
    "        w[untrained,:] = np.add(w[untrained,:], DeltaW[untrained,:])\n",
    "        w = (w>0) * w\n",
    "        converged = testLearnSeq(training_data, w)\n",
    "        if iteration  % 1000 == 0:\n",
    "            print(iteration)\n",
    "        iteration += 1\n",
    "        \n",
    "    if converged:\n",
    "        print(\"converged\")\n",
    "        training_data = np.vstack((training_data,generate_data(f,N)))\n",
    "        \n",
    "    else:\n",
    "        print(\"not\")\n",
    "        l_rate /= 2\n",
    "    \n",
    "    print(training_data.shape[0])"
   ]
  },
  {
   "cell_type": "code",
   "execution_count": null,
   "metadata": {
    "collapsed": false
   },
   "outputs": [],
   "source": []
  },
  {
   "cell_type": "code",
   "execution_count": null,
   "metadata": {
    "collapsed": true
   },
   "outputs": [],
   "source": []
  },
  {
   "cell_type": "markdown",
   "metadata": {},
   "source": [
    "## Distribution of synaptic weights"
   ]
  },
  {
   "cell_type": "code",
   "execution_count": 123,
   "metadata": {
    "collapsed": false,
    "scrolled": true
   },
   "outputs": [
    {
     "data": {
      "image/png": "[encoded data removed]",
      "text/plain": [
       "<matplotlib.figure.Figure at 0x26aa846a128>"
      ]
     },
     "metadata": {},
     "output_type": "display_data"
    }
   ],
   "source": [
    "plt.hist(w.flatten(), bins = 100, normed = True)\n",
    "plt.show()"
   ]
  },
  {
   "cell_type": "code",
   "execution_count": null,
   "metadata": {
    "collapsed": true
   },
   "outputs": [],
   "source": []
  },
  {
   "cell_type": "code",
   "execution_count": 124,
   "metadata": {
    "collapsed": false
   },
   "outputs": [
    {
     "name": "stdout",
     "output_type": "stream",
     "text": [
      "1.0\n",
      "0.7284\n"
     ]
    }
   ],
   "source": [
    "# Figure 2.b\n",
    "# distribution synaptic weights (histogram)\n",
    "\n",
    "print(rho)\n",
    "connectionProba = (w>0).sum()/(N*N)\n",
    "print(connectionProba)"
   ]
  },
  {
   "cell_type": "code",
   "execution_count": null,
   "metadata": {
    "collapsed": false
   },
   "outputs": [],
   "source": []
  },
  {
   "cell_type": "code",
   "execution_count": null,
   "metadata": {
    "collapsed": true
   },
   "outputs": [],
   "source": []
  },
  {
   "cell_type": "code",
   "execution_count": null,
   "metadata": {
    "collapsed": true
   },
   "outputs": [],
   "source": []
  },
  {
   "cell_type": "markdown",
   "metadata": {},
   "source": [
    "## Statistics of two-neuron bidirectional connectivity"
   ]
  },
  {
   "cell_type": "code",
   "execution_count": 126,
   "metadata": {
    "collapsed": false
   },
   "outputs": [
    {
     "data": {
      "text/plain": [
       "<seaborn.axisgrid.JointGrid at 0x26aa84ca470>"
      ]
     },
     "execution_count": 126,
     "metadata": {},
     "output_type": "execute_result"
    },
    {
     "data": {
      "image/png": "[encoded data removed]",
      "text/plain": [
       "<matplotlib.figure.Figure at 0x26aa84ca588>"
      ]
     },
     "metadata": {},
     "output_type": "display_data"
    }
   ],
   "source": [
    "#Scatterplot of the pairs w_ij, w_ji\n",
    "\n",
    "import seaborn as sns\n",
    "\n",
    "sns.jointplot(w, w.T, kind = 'scatter')"
   ]
  },
  {
   "cell_type": "code",
   "execution_count": 129,
   "metadata": {
    "collapsed": false
   },
   "outputs": [
    {
     "data": {
      "text/plain": [
       "<matplotlib.colorbar.Colorbar at 0x26aa8c5a710>"
      ]
     },
     "execution_count": 129,
     "metadata": {},
     "output_type": "execute_result"
    },
    {
     "data": {
      "image/png": "[encoded data removed]",
      "text/plain": [
       "<matplotlib.figure.Figure at 0x26aa8ba81d0>"
      ]
     },
     "metadata": {},
     "output_type": "display_data"
    }
   ],
   "source": [
    "#histogram of the pairs w_ij, w_ji\n",
    "\n",
    "plt.hist2d(w[w>0].ravel(), w[w>0].T.ravel(), bins = 10, range = np.array([[0,1],[0,1]]), cmap = 'viridis')\n",
    "plt.colorbar()"
   ]
  },
  {
   "cell_type": "code",
   "execution_count": 130,
   "metadata": {
    "collapsed": true
   },
   "outputs": [],
   "source": [
    "#Construction of an erdos-renyi network.\n",
    "\n",
    "\n",
    "import networkx\n",
    "\n",
    "randomGraph = networkx.gnm_random_graph(N, (w>0).sum(), directed = True)\n"
   ]
  },
  {
   "cell_type": "code",
   "execution_count": 131,
   "metadata": {
    "collapsed": false
   },
   "outputs": [],
   "source": [
    "randomWeights = np.zeros((N,N))\n",
    "for coordinate in randomGraph.edges():\n",
    "    randomWeights[coordinate] = 1."
   ]
  },
  {
   "cell_type": "code",
   "execution_count": 134,
   "metadata": {
    "collapsed": false
   },
   "outputs": [
    {
     "data": {
      "text/plain": [
       "<matplotlib.image.AxesImage at 0x26aaa1f2be0>"
      ]
     },
     "execution_count": 134,
     "metadata": {},
     "output_type": "execute_result"
    },
    {
     "data": {
      "image/png": "[encoded data removed]",
      "text/plain": [
       "<matplotlib.figure.Figure at 0x26aa9f835f8>"
      ]
     },
     "metadata": {},
     "output_type": "display_data"
    }
   ],
   "source": [
    "plt.imshow(randomWeights)"
   ]
  },
  {
   "cell_type": "code",
   "execution_count": 135,
   "metadata": {
    "collapsed": false
   },
   "outputs": [
    {
     "name": "stdout",
     "output_type": "stream",
     "text": [
      "1.11081893313\n"
     ]
    }
   ],
   "source": [
    "#Excess of reciprocally connected pairs compared to a random Erdos-Renyi network\n",
    "\n",
    "countReciprocal = (w*w.T>0).sum()\n",
    "countReciprocalER = (randomWeights*randomWeights.T>0).sum()\n",
    "print(countReciprocal/countReciprocalER)"
   ]
  },
  {
   "cell_type": "code",
   "execution_count": 139,
   "metadata": {
    "collapsed": false
   },
   "outputs": [
    {
     "name": "stdout",
     "output_type": "stream",
     "text": [
      "0.5914\n",
      "0.7284\n"
     ]
    }
   ],
   "source": [
    "#Reciprocal connection probability\n",
    "\n",
    "reciprocalProba = countReciprocal/(N*N)\n",
    "print(reciprocalProba)\n",
    "#General connection probability\n",
    "print(connectionProba)"
   ]
  },
  {
   "cell_type": "markdown",
   "metadata": {},
   "source": [
    "## Degree distributions"
   ]
  },
  {
   "cell_type": "code",
   "execution_count": 137,
   "metadata": {
    "collapsed": false
   },
   "outputs": [],
   "source": [
    "Majorityness = []\n",
    "for i in range(training_data.shape[1]):\n",
    "    Majorityness.append(np.sum(training_data[:,i:i+1]*training_data)/(f*N*np.sum(training_data[:,i])))"
   ]
  },
  {
   "cell_type": "code",
   "execution_count": 138,
   "metadata": {
    "collapsed": false,
    "scrolled": true
   },
   "outputs": [
    {
     "data": {
      "text/plain": [
       "[1.0306666666666666,\n",
       " 1.023076923076923,\n",
       " 1.0458823529411765,\n",
       " 1.0725,\n",
       " 1.0516666666666667,\n",
       " 1.0600000000000001,\n",
       " 1.0517647058823529,\n",
       " 1.0349999999999999,\n",
       " 1.0387500000000001,\n",
       " 1.0611111111111111,\n",
       " 1.0649999999999999,\n",
       " 1.0453333333333332,\n",
       " 1.02,\n",
       " 1.0640000000000001,\n",
       " 1.0338461538461539,\n",
       " 1.063076923076923,\n",
       " 1.0062500000000001,\n",
       " 1.0816666666666668,\n",
       " 1.0666666666666667,\n",
       " 1.0346666666666666,\n",
       " 1.0571428571428572,\n",
       " 1.0628571428571429,\n",
       " 1.0515789473684209,\n",
       " 1.0418181818181818,\n",
       " 1.0485714285714285,\n",
       " 1.023076923076923,\n",
       " 1.0261538461538462,\n",
       " 1.0385714285714285,\n",
       " 1.0283333333333333,\n",
       " 1.06125,\n",
       " 1.03,\n",
       " 1.0533333333333332,\n",
       " 1.0700000000000001,\n",
       " 1.038,\n",
       " 1.0553846153846154,\n",
       " 1.0955555555555556,\n",
       " 1.0589473684210526,\n",
       " 1.056,\n",
       " 1.0505882352941176,\n",
       " 1.0076923076923077,\n",
       " 1.0733333333333333,\n",
       " 1.0729411764705883,\n",
       " 1.02,\n",
       " 1.0458823529411765,\n",
       " 0.97999999999999998,\n",
       " 1.0188235294117647,\n",
       " 1.0700000000000001,\n",
       " 1.0276923076923077,\n",
       " 1.0647058823529412,\n",
       " 1.0413333333333334,\n",
       " 0.97999999999999998,\n",
       " 1.028888888888889,\n",
       " 1.0733333333333333,\n",
       " 1.0674999999999999,\n",
       " 1.0323076923076924,\n",
       " 1.0511111111111111,\n",
       " 1.0485714285714285,\n",
       " 1.0544444444444445,\n",
       " 1.0566666666666666,\n",
       " 1.0333333333333334,\n",
       " 1.0410526315789475,\n",
       " 1.0426666666666666,\n",
       " 1.0753846153846154,\n",
       " 1.0369230769230768,\n",
       " 1.0144444444444445,\n",
       " 1.0583333333333333,\n",
       " 1.0414285714285714,\n",
       " 1.0655555555555556,\n",
       " 1.0492307692307692,\n",
       " 1.0726315789473684,\n",
       " 1.0304761904761905,\n",
       " 1.0568421052631578,\n",
       " 1.026,\n",
       " 1.0329411764705883,\n",
       " 1.0455555555555556,\n",
       " 1.0094117647058825,\n",
       " 1.095,\n",
       " 1.0314285714285714,\n",
       " 1.0375000000000001,\n",
       " 1.0369230769230768,\n",
       " 1.0583333333333333,\n",
       " 1.0325,\n",
       " 1.0252631578947369,\n",
       " 1.043076923076923,\n",
       " 1.0485714285714285,\n",
       " 1.0611111111111111,\n",
       " 1.0188235294117647,\n",
       " 1.028,\n",
       " 1.0760000000000001,\n",
       " 1.0371428571428571,\n",
       " 1.0870588235294119,\n",
       " 1.0371428571428571,\n",
       " 1.052,\n",
       " 1.036,\n",
       " 1.0569230769230769,\n",
       " 1.0426666666666666,\n",
       " 1.0233333333333334,\n",
       " 1.024,\n",
       " 1.0293333333333334,\n",
       " 1.0376470588235294]"
      ]
     },
     "execution_count": 138,
     "metadata": {},
     "output_type": "execute_result"
    }
   ],
   "source": [
    "Majorityness"
   ]
  },
  {
   "cell_type": "code",
   "execution_count": null,
   "metadata": {
    "collapsed": true
   },
   "outputs": [],
   "source": []
  },
  {
   "cell_type": "markdown",
   "metadata": {
    "collapsed": false
   },
   "source": [
    "## Inhibition model"
   ]
  },
  {
   "cell_type": "markdown",
   "metadata": {},
   "source": [
    "Model 1 : Linear"
   ]
  },
  {
   "cell_type": "code",
   "execution_count": 6,
   "metadata": {
    "collapsed": true
   },
   "outputs": [],
   "source": [
    "wInhib = 1."
   ]
  },
  {
   "cell_type": "code",
   "execution_count": 8,
   "metadata": {
    "collapsed": false,
    "scrolled": true
   },
   "outputs": [
    {
     "name": "stdout",
     "output_type": "stream",
     "text": [
      "0\n",
      "converged\n",
      "2\n",
      "0\n",
      "converged\n",
      "3\n",
      "0\n",
      "converged\n",
      "4\n",
      "0\n",
      "converged\n",
      "5\n",
      "0\n",
      "converged\n",
      "6\n",
      "0\n",
      "converged\n",
      "7\n",
      "0\n",
      "converged\n",
      "8\n",
      "0\n",
      "converged\n",
      "9\n",
      "0\n",
      "converged\n",
      "10\n",
      "0\n",
      "converged\n",
      "11\n",
      "0\n",
      "converged\n",
      "12\n",
      "0\n",
      "converged\n",
      "13\n",
      "0\n",
      "converged\n",
      "14\n",
      "0\n",
      "converged\n",
      "15\n",
      "0\n",
      "converged\n",
      "16\n",
      "0\n",
      "converged\n",
      "17\n",
      "0\n",
      "converged\n",
      "18\n",
      "0\n",
      "converged\n",
      "19\n",
      "0\n",
      "converged\n",
      "20\n",
      "0\n",
      "converged\n",
      "21\n",
      "0\n",
      "converged\n",
      "22\n",
      "0\n",
      "1000\n",
      "converged\n",
      "23\n",
      "0\n",
      "converged\n",
      "24\n",
      "0\n",
      "converged\n",
      "25\n",
      "0\n",
      "converged\n",
      "26\n",
      "0\n",
      "1000\n",
      "converged\n",
      "27\n",
      "0\n",
      "1000\n",
      "converged\n",
      "28\n",
      "0\n"
     ]
    },
    {
     "ename": "KeyboardInterrupt",
     "evalue": "",
     "output_type": "error",
     "traceback": [
      "\u001b[0;31m---------------------------------------------------------------------------\u001b[0m",
      "\u001b[0;31mKeyboardInterrupt\u001b[0m                         Traceback (most recent call last)",
      "\u001b[0;32m<ipython-input-8-70dd8bc2fa76>\u001b[0m in \u001b[0;36m<module>\u001b[0;34m()\u001b[0m\n\u001b[1;32m     20\u001b[0m         \u001b[0mresult\u001b[0m \u001b[1;33m=\u001b[0m \u001b[0mdot\u001b[0m\u001b[1;33m(\u001b[0m\u001b[0mwEffective\u001b[0m\u001b[1;33m,\u001b[0m\u001b[0meta\u001b[0m\u001b[1;33m)\u001b[0m \u001b[1;33m-\u001b[0m \u001b[0mwEffective\u001b[0m\u001b[1;33m.\u001b[0m\u001b[0mdiagonal\u001b[0m\u001b[1;33m(\u001b[0m\u001b[1;33m)\u001b[0m\u001b[1;33m.\u001b[0m\u001b[0mreshape\u001b[0m\u001b[1;33m(\u001b[0m\u001b[1;33m-\u001b[0m\u001b[1;36m1\u001b[0m\u001b[1;33m,\u001b[0m\u001b[1;36m1\u001b[0m\u001b[1;33m)\u001b[0m \u001b[1;33m*\u001b[0m \u001b[0meta\u001b[0m\u001b[1;33m\u001b[0m\u001b[0m\n\u001b[1;32m     21\u001b[0m         \u001b[0muntrained\u001b[0m \u001b[1;33m=\u001b[0m \u001b[0mnp\u001b[0m\u001b[1;33m.\u001b[0m\u001b[0mnonzero\u001b[0m\u001b[1;33m(\u001b[0m\u001b[1;33m(\u001b[0m\u001b[1;36m2\u001b[0m\u001b[1;33m*\u001b[0m\u001b[0meta\u001b[0m \u001b[1;33m-\u001b[0m \u001b[1;36m1\u001b[0m\u001b[1;33m)\u001b[0m\u001b[1;33m*\u001b[0m\u001b[1;33m(\u001b[0m\u001b[0mresult\u001b[0m \u001b[1;33m-\u001b[0m \u001b[0mT\u001b[0m\u001b[1;33m)\u001b[0m \u001b[1;33m<=\u001b[0m \u001b[0mK\u001b[0m\u001b[1;33m)\u001b[0m\u001b[1;33m\u001b[0m\u001b[0m\n\u001b[0;32m---> 22\u001b[0;31m         \u001b[0mDeltaW\u001b[0m \u001b[1;33m=\u001b[0m \u001b[0ml_rate\u001b[0m \u001b[1;33m*\u001b[0m \u001b[0mdot\u001b[0m\u001b[1;33m(\u001b[0m\u001b[1;33m(\u001b[0m\u001b[1;36m2\u001b[0m \u001b[1;33m*\u001b[0m \u001b[0meta\u001b[0m\u001b[1;33m.\u001b[0m\u001b[0mreshape\u001b[0m\u001b[1;33m(\u001b[0m\u001b[1;33m(\u001b[0m\u001b[1;33m-\u001b[0m\u001b[1;36m1\u001b[0m\u001b[1;33m,\u001b[0m\u001b[1;36m1\u001b[0m\u001b[1;33m)\u001b[0m\u001b[1;33m)\u001b[0m \u001b[1;33m-\u001b[0m \u001b[1;36m1\u001b[0m\u001b[1;33m)\u001b[0m\u001b[1;33m,\u001b[0m \u001b[0meta\u001b[0m\u001b[1;33m.\u001b[0m\u001b[0mreshape\u001b[0m\u001b[1;33m(\u001b[0m\u001b[1;33m(\u001b[0m\u001b[1;36m1\u001b[0m\u001b[1;33m,\u001b[0m\u001b[1;33m-\u001b[0m\u001b[1;36m1\u001b[0m\u001b[1;33m)\u001b[0m\u001b[1;33m)\u001b[0m\u001b[1;33m)\u001b[0m\u001b[1;33m\u001b[0m\u001b[0m\n\u001b[0m\u001b[1;32m     23\u001b[0m         \u001b[0mnp\u001b[0m\u001b[1;33m.\u001b[0m\u001b[0mfill_diagonal\u001b[0m\u001b[1;33m(\u001b[0m\u001b[0mDeltaW\u001b[0m\u001b[1;33m,\u001b[0m\u001b[1;36m0\u001b[0m\u001b[1;33m)\u001b[0m\u001b[1;33m\u001b[0m\u001b[0m\n\u001b[1;32m     24\u001b[0m         \u001b[0mw\u001b[0m\u001b[1;33m[\u001b[0m\u001b[0muntrained\u001b[0m\u001b[1;33m,\u001b[0m\u001b[1;33m:\u001b[0m\u001b[1;33m]\u001b[0m \u001b[1;33m=\u001b[0m \u001b[0mnp\u001b[0m\u001b[1;33m.\u001b[0m\u001b[0madd\u001b[0m\u001b[1;33m(\u001b[0m\u001b[0mw\u001b[0m\u001b[1;33m[\u001b[0m\u001b[0muntrained\u001b[0m\u001b[1;33m,\u001b[0m\u001b[1;33m:\u001b[0m\u001b[1;33m]\u001b[0m\u001b[1;33m,\u001b[0m \u001b[0mDeltaW\u001b[0m\u001b[1;33m[\u001b[0m\u001b[0muntrained\u001b[0m\u001b[1;33m,\u001b[0m\u001b[1;33m:\u001b[0m\u001b[1;33m]\u001b[0m\u001b[1;33m)\u001b[0m\u001b[1;33m\u001b[0m\u001b[0m\n",
      "\u001b[0;31mKeyboardInterrupt\u001b[0m: "
     ]
    }
   ],
   "source": [
    "# https://blog.dbrgn.ch/2013/3/26/perceptrons-in-python/\n",
    "# http://machinelearningmastery.com/implement-perceptron-algorithm-scratch-python/\n",
    "\n",
    "from random import choice\n",
    "from numpy import array, dot, random\n",
    "import numpy as np\n",
    "\n",
    "training_data = generate_data(f,N)\n",
    "\n",
    "w = random.uniform(0,2*T/(f*N),(N,N))\n",
    "wEffective = w - wInhib * T / (f*N)\n",
    "l_rate = 0.01*T\n",
    "\n",
    "while l_rate > T * 1e-6:\n",
    "    iteration = 0\n",
    "    converged = testLearn(training_data, w)\n",
    "    while (not converged) and (iteration < 1e4):\n",
    "        mu = random.randint(training_data.shape[0])\n",
    "        eta = training_data[mu,:].reshape((-1,1))\n",
    "        result = dot(wEffective,eta) - wEffective.diagonal().reshape(-1,1) * eta\n",
    "        untrained = np.nonzero((2*eta - 1)*(result - T) <= K)\n",
    "        DeltaW = l_rate * dot((2 * eta.reshape((-1,1)) - 1), eta.reshape((1,-1)))\n",
    "        np.fill_diagonal(DeltaW,0)\n",
    "        w[untrained,:] = np.add(w[untrained,:], DeltaW[untrained,:])\n",
    "        w = (w>0) * w\n",
    "        wEffective = w - wInhib * T / (f*N)\n",
    "        converged = testLearn(training_data, wEffective)\n",
    "        if iteration  % 1000 == 0:\n",
    "            print(iteration)\n",
    "        iteration += 1\n",
    "        \n",
    "    if converged:\n",
    "        print(\"converged\")\n",
    "        #We have found p = 29 for our choice of parameters\n",
    "        if training_data.shape[0]<29:\n",
    "            training_data = np.vstack((training_data,generate_data(f,N)))\n",
    "        else:\n",
    "            break\n",
    "            \n",
    "    else:\n",
    "        print(\"not\")\n",
    "        l_rate /= 2\n",
    "    \n",
    "    print(training_data.shape[0])"
   ]
  },
  {
   "cell_type": "markdown",
   "metadata": {
    "collapsed": true
   },
   "source": [
    "Model 2 : Individual inhibitory neurons"
   ]
  },
  {
   "cell_type": "code",
   "execution_count": 8,
   "metadata": {
    "collapsed": true
   },
   "outputs": [],
   "source": [
    "NI = int(N/4)\n",
    "fI = 0.5"
   ]
  },
  {
   "cell_type": "markdown",
   "metadata": {},
   "source": [
    "Variant 1 : all fixed"
   ]
  },
  {
   "cell_type": "code",
   "execution_count": 26,
   "metadata": {
    "collapsed": true
   },
   "outputs": [],
   "source": [
    "def testLearnI(training_data, inhibitory_data, w, wEI, wII, wIE):\n",
    "    for mu in range(training_data.shape[0]):\n",
    "        eta = training_data[mu,:].reshape((-1,1))\n",
    "        etaI = inhibitory_data[mu,:].reshape((-1,1))\n",
    "        result = dot(w,eta) - w.diagonal().reshape(-1,1) * eta\n",
    "        result -= dot(wEI,etaI)      \n",
    "        if ((2*eta - 1)*(result - T) <= K).any():\n",
    "            return False\n",
    "    return True"
   ]
  },
  {
   "cell_type": "code",
   "execution_count": 27,
   "metadata": {
    "collapsed": false
   },
   "outputs": [],
   "source": [
    "wEI = random.uniform(0,2 * (1 + wInhib) * T / (f*N),(N,NI))\n",
    "wII = random.uniform(0,2 * wInhib * T / (fI*NI),(NI,NI))\n",
    "wIE = random.uniform(0,2 * wInhib * T / (fI*NI),(NI,N))"
   ]
  },
  {
   "cell_type": "code",
   "execution_count": 30,
   "metadata": {
    "collapsed": false,
    "scrolled": true
   },
   "outputs": [
    {
     "name": "stdout",
     "output_type": "stream",
     "text": [
      "0\n",
      "converged\n",
      "2\n",
      "0\n",
      "converged\n",
      "3\n",
      "0\n",
      "converged\n",
      "4\n",
      "0\n",
      "converged\n",
      "5\n",
      "0\n",
      "converged\n",
      "6\n",
      "0\n",
      "converged\n",
      "7\n",
      "0\n",
      "converged\n",
      "8\n",
      "0\n",
      "converged\n",
      "9\n",
      "0\n",
      "converged\n",
      "10\n",
      "0\n",
      "converged\n",
      "11\n",
      "0\n",
      "converged\n",
      "12\n",
      "0\n",
      "converged\n",
      "13\n",
      "0\n",
      "converged\n",
      "14\n",
      "0\n",
      "converged\n",
      "15\n",
      "0\n",
      "converged\n",
      "16\n",
      "0\n",
      "converged\n",
      "17\n",
      "0\n",
      "converged\n",
      "18\n",
      "0\n",
      "converged\n",
      "19\n",
      "0\n",
      "converged\n",
      "20\n",
      "0\n",
      "converged\n",
      "21\n",
      "0\n",
      "converged\n",
      "22\n",
      "0\n",
      "1000\n",
      "2000\n",
      "3000\n",
      "4000\n",
      "5000\n",
      "6000\n",
      "converged\n",
      "23\n",
      "0\n",
      "converged\n",
      "24\n",
      "0\n",
      "1000\n",
      "2000\n"
     ]
    },
    {
     "ename": "KeyboardInterrupt",
     "evalue": "",
     "output_type": "error",
     "traceback": [
      "\u001b[0;31m---------------------------------------------------------------------------\u001b[0m",
      "\u001b[0;31mKeyboardInterrupt\u001b[0m                         Traceback (most recent call last)",
      "\u001b[0;32m<ipython-input-30-f45e7b121b58>\u001b[0m in \u001b[0;36m<module>\u001b[0;34m()\u001b[0m\n\u001b[1;32m     29\u001b[0m         \u001b[0mw\u001b[0m \u001b[1;33m=\u001b[0m \u001b[1;33m(\u001b[0m\u001b[0mw\u001b[0m\u001b[1;33m>\u001b[0m\u001b[1;36m0\u001b[0m\u001b[1;33m)\u001b[0m \u001b[1;33m*\u001b[0m \u001b[0mw\u001b[0m\u001b[1;33m\u001b[0m\u001b[0m\n\u001b[1;32m     30\u001b[0m \u001b[1;33m\u001b[0m\u001b[0m\n\u001b[0;32m---> 31\u001b[0;31m         \u001b[0mconverged\u001b[0m \u001b[1;33m=\u001b[0m \u001b[0mtestLearnI\u001b[0m\u001b[1;33m(\u001b[0m\u001b[0mtraining_data\u001b[0m\u001b[1;33m,\u001b[0m \u001b[0minhibitory_data\u001b[0m\u001b[1;33m,\u001b[0m \u001b[0mw\u001b[0m\u001b[1;33m,\u001b[0m \u001b[0mwEI\u001b[0m\u001b[1;33m,\u001b[0m \u001b[0mwII\u001b[0m\u001b[1;33m,\u001b[0m \u001b[0mwIE\u001b[0m\u001b[1;33m)\u001b[0m\u001b[1;33m\u001b[0m\u001b[0m\n\u001b[0m\u001b[1;32m     32\u001b[0m         \u001b[1;32mif\u001b[0m \u001b[0miteration\u001b[0m  \u001b[1;33m%\u001b[0m \u001b[1;36m1000\u001b[0m \u001b[1;33m==\u001b[0m \u001b[1;36m0\u001b[0m\u001b[1;33m:\u001b[0m\u001b[1;33m\u001b[0m\u001b[0m\n\u001b[1;32m     33\u001b[0m             \u001b[0mprint\u001b[0m\u001b[1;33m(\u001b[0m\u001b[0miteration\u001b[0m\u001b[1;33m)\u001b[0m\u001b[1;33m\u001b[0m\u001b[0m\n",
      "\u001b[0;32m<ipython-input-26-9b0d994163a9>\u001b[0m in \u001b[0;36mtestLearnI\u001b[0;34m(training_data, inhibitory_data, w, wEI, wII, wIE)\u001b[0m\n\u001b[1;32m      3\u001b[0m         \u001b[0meta\u001b[0m \u001b[1;33m=\u001b[0m \u001b[0mtraining_data\u001b[0m\u001b[1;33m[\u001b[0m\u001b[0mmu\u001b[0m\u001b[1;33m,\u001b[0m\u001b[1;33m:\u001b[0m\u001b[1;33m]\u001b[0m\u001b[1;33m.\u001b[0m\u001b[0mreshape\u001b[0m\u001b[1;33m(\u001b[0m\u001b[1;33m(\u001b[0m\u001b[1;33m-\u001b[0m\u001b[1;36m1\u001b[0m\u001b[1;33m,\u001b[0m\u001b[1;36m1\u001b[0m\u001b[1;33m)\u001b[0m\u001b[1;33m)\u001b[0m\u001b[1;33m\u001b[0m\u001b[0m\n\u001b[1;32m      4\u001b[0m         \u001b[0metaI\u001b[0m \u001b[1;33m=\u001b[0m \u001b[0minhibitory_data\u001b[0m\u001b[1;33m[\u001b[0m\u001b[0mmu\u001b[0m\u001b[1;33m,\u001b[0m\u001b[1;33m:\u001b[0m\u001b[1;33m]\u001b[0m\u001b[1;33m.\u001b[0m\u001b[0mreshape\u001b[0m\u001b[1;33m(\u001b[0m\u001b[1;33m(\u001b[0m\u001b[1;33m-\u001b[0m\u001b[1;36m1\u001b[0m\u001b[1;33m,\u001b[0m\u001b[1;36m1\u001b[0m\u001b[1;33m)\u001b[0m\u001b[1;33m)\u001b[0m\u001b[1;33m\u001b[0m\u001b[0m\n\u001b[0;32m----> 5\u001b[0;31m         \u001b[0mresult\u001b[0m \u001b[1;33m=\u001b[0m \u001b[0mdot\u001b[0m\u001b[1;33m(\u001b[0m\u001b[0mw\u001b[0m\u001b[1;33m,\u001b[0m\u001b[0meta\u001b[0m\u001b[1;33m)\u001b[0m \u001b[1;33m-\u001b[0m \u001b[0mw\u001b[0m\u001b[1;33m.\u001b[0m\u001b[0mdiagonal\u001b[0m\u001b[1;33m(\u001b[0m\u001b[1;33m)\u001b[0m\u001b[1;33m.\u001b[0m\u001b[0mreshape\u001b[0m\u001b[1;33m(\u001b[0m\u001b[1;33m-\u001b[0m\u001b[1;36m1\u001b[0m\u001b[1;33m,\u001b[0m\u001b[1;36m1\u001b[0m\u001b[1;33m)\u001b[0m \u001b[1;33m*\u001b[0m \u001b[0meta\u001b[0m\u001b[1;33m\u001b[0m\u001b[0m\n\u001b[0m\u001b[1;32m      6\u001b[0m         \u001b[0mresult\u001b[0m \u001b[1;33m-=\u001b[0m \u001b[0mdot\u001b[0m\u001b[1;33m(\u001b[0m\u001b[0mwEI\u001b[0m\u001b[1;33m,\u001b[0m\u001b[0metaI\u001b[0m\u001b[1;33m)\u001b[0m\u001b[1;33m\u001b[0m\u001b[0m\n\u001b[1;32m      7\u001b[0m         \u001b[1;32mif\u001b[0m \u001b[1;33m(\u001b[0m\u001b[1;33m(\u001b[0m\u001b[1;36m2\u001b[0m\u001b[1;33m*\u001b[0m\u001b[0meta\u001b[0m \u001b[1;33m-\u001b[0m \u001b[1;36m1\u001b[0m\u001b[1;33m)\u001b[0m\u001b[1;33m*\u001b[0m\u001b[1;33m(\u001b[0m\u001b[0mresult\u001b[0m \u001b[1;33m-\u001b[0m \u001b[0mT\u001b[0m\u001b[1;33m)\u001b[0m \u001b[1;33m<=\u001b[0m \u001b[0mK\u001b[0m\u001b[1;33m)\u001b[0m\u001b[1;33m.\u001b[0m\u001b[0many\u001b[0m\u001b[1;33m(\u001b[0m\u001b[1;33m)\u001b[0m\u001b[1;33m:\u001b[0m\u001b[1;33m\u001b[0m\u001b[0m\n",
      "\u001b[0;31mKeyboardInterrupt\u001b[0m: "
     ]
    }
   ],
   "source": [
    "# https://blog.dbrgn.ch/2013/3/26/perceptrons-in-python/\n",
    "# http://machinelearningmastery.com/implement-perceptron-algorithm-scratch-python/\n",
    "\n",
    "from random import choice\n",
    "from numpy import array, dot, random\n",
    "import numpy as np\n",
    "training_data = generate_data(f,N)\n",
    "inhibitory_data = generate_data(fI,NI)\n",
    "\n",
    "w = random.uniform(0,2*T/(f*N),(N,N))\n",
    "l_rate = 0.01*T\n",
    "\n",
    "while l_rate > T * 1e-6:\n",
    "    iteration = 0\n",
    "    converged = testLearn(training_data, w)\n",
    "    while (not converged) and (iteration < 1e4):\n",
    "        mu = random.randint(training_data.shape[0])\n",
    "        eta = training_data[mu,:].reshape((-1,1))\n",
    "        etaI = inhibitory_data[mu,:].reshape((-1,1))\n",
    "        result = dot(w,eta) - w.diagonal().reshape(-1,1) * eta\n",
    "        result -= dot(wEI,etaI)\n",
    "        \n",
    "        untrained = np.nonzero((2*eta - 1)*(result - T) <= K)\n",
    "        \n",
    "        DeltaW = l_rate * dot((2 * eta.reshape((-1,1)) - 1), eta.reshape((1,-1)))\n",
    "        np.fill_diagonal(DeltaW,0)\n",
    "        \n",
    "        w[untrained,:] = np.add(w[untrained,:], DeltaW[untrained,:])\n",
    "        w = (w>0) * w\n",
    "        \n",
    "        converged = testLearnI(training_data, inhibitory_data, w, wEI, wII, wIE)\n",
    "        if iteration  % 1000 == 0:\n",
    "            print(iteration)\n",
    "        iteration += 1\n",
    "        \n",
    "    if converged:\n",
    "        print(\"converged\")\n",
    "        #We have found p = 29 for our choice of parameters\n",
    "        if training_data.shape[0]<29:\n",
    "            training_data = np.vstack((training_data,generate_data(f,N)))\n",
    "            inhibitory_data = np.vstack((inhibitory_data,generate_data(fI,NI)))\n",
    "        else:\n",
    "            break\n",
    "            \n",
    "    else:\n",
    "        print(\"not\")\n",
    "        l_rate /= 2\n",
    "    \n",
    "    print(training_data.shape[0])"
   ]
  },
  {
   "cell_type": "markdown",
   "metadata": {},
   "source": [
    "Variant 2 : Plastic IE"
   ]
  },
  {
   "cell_type": "code",
   "execution_count": 31,
   "metadata": {
    "collapsed": true
   },
   "outputs": [],
   "source": [
    "def testLearnI(training_data, inhibitory_data, w, wEI, wII, wIE):\n",
    "    for mu in range(training_data.shape[0]):\n",
    "        eta = training_data[mu,:].reshape((-1,1))\n",
    "        etaI = inhibitory_data[mu,:].reshape((-1,1))\n",
    "        result = dot(w,eta) - w.diagonal().reshape(-1,1) * eta\n",
    "        result -= dot(wEI,etaI)\n",
    "        \n",
    "        resultI = dot(wIE,eta)\n",
    "        resultI -= dot(wII,etaI) - wII.diagonal().reshape(-1,1) * etaI\n",
    "        if ((2*eta - 1)*(result - T) <= K).any() and ((2*etaI - 1)*(resultI - T) <= K).any():\n",
    "            return False\n",
    "    return True"
   ]
  },
  {
   "cell_type": "code",
   "execution_count": 32,
   "metadata": {
    "collapsed": true
   },
   "outputs": [],
   "source": [
    "wEI = random.uniform(0,2 * (1 + wInhib) * T / (f*N),(N,NI))\n",
    "wII = random.uniform(0,2 * wInhib * T / (fI*NI),(NI,NI))\n",
    "wIE = random.uniform(0,2 * wInhib * T / (fI*NI),(NI,N))\n",
    "\n",
    "#plastic IE\n",
    "\n",
    "#Constraint of constant mean excitatory and inhibitory weights "
   ]
  },
  {
   "cell_type": "code",
   "execution_count": 34,
   "metadata": {
    "collapsed": false,
    "scrolled": true
   },
   "outputs": [
    {
     "name": "stdout",
     "output_type": "stream",
     "text": [
      "0\n",
      "converged\n",
      "2\n",
      "0\n",
      "converged\n",
      "3\n",
      "0\n",
      "converged\n",
      "4\n",
      "0\n",
      "converged\n",
      "5\n",
      "0\n",
      "converged\n",
      "6\n",
      "0\n",
      "converged\n",
      "7\n",
      "0\n",
      "1000\n",
      "converged\n",
      "8\n",
      "0\n",
      "1000\n",
      "2000\n",
      "3000\n",
      "converged\n",
      "9\n",
      "0\n"
     ]
    },
    {
     "ename": "KeyboardInterrupt",
     "evalue": "",
     "output_type": "error",
     "traceback": [
      "\u001b[0;31m---------------------------------------------------------------------------\u001b[0m",
      "\u001b[0;31mKeyboardInterrupt\u001b[0m                         Traceback (most recent call last)",
      "\u001b[0;32m<ipython-input-34-559aa1a6d512>\u001b[0m in \u001b[0;36m<module>\u001b[0;34m()\u001b[0m\n\u001b[1;32m     40\u001b[0m         \u001b[0mwIE\u001b[0m \u001b[1;33m=\u001b[0m \u001b[0mwIE\u001b[0m \u001b[1;33m/\u001b[0m \u001b[0mwIE\u001b[0m\u001b[1;33m.\u001b[0m\u001b[0mmean\u001b[0m\u001b[1;33m(\u001b[0m\u001b[1;33m)\u001b[0m \u001b[1;33m*\u001b[0m \u001b[0mwInhib\u001b[0m \u001b[1;33m*\u001b[0m \u001b[0mT\u001b[0m \u001b[1;33m/\u001b[0m \u001b[1;33m(\u001b[0m\u001b[0mfI\u001b[0m\u001b[1;33m*\u001b[0m\u001b[0mNI\u001b[0m\u001b[1;33m)\u001b[0m\u001b[1;33m\u001b[0m\u001b[0m\n\u001b[1;32m     41\u001b[0m \u001b[1;33m\u001b[0m\u001b[0m\n\u001b[0;32m---> 42\u001b[0;31m         \u001b[0mconverged\u001b[0m \u001b[1;33m=\u001b[0m \u001b[0mtestLearnI\u001b[0m\u001b[1;33m(\u001b[0m\u001b[0mtraining_data\u001b[0m\u001b[1;33m,\u001b[0m \u001b[0minhibitory_data\u001b[0m\u001b[1;33m,\u001b[0m \u001b[0mw\u001b[0m\u001b[1;33m,\u001b[0m \u001b[0mwEI\u001b[0m\u001b[1;33m,\u001b[0m \u001b[0mwII\u001b[0m\u001b[1;33m,\u001b[0m \u001b[0mwIE\u001b[0m\u001b[1;33m)\u001b[0m\u001b[1;33m\u001b[0m\u001b[0m\n\u001b[0m\u001b[1;32m     43\u001b[0m         \u001b[1;32mif\u001b[0m \u001b[0miteration\u001b[0m  \u001b[1;33m%\u001b[0m \u001b[1;36m1000\u001b[0m \u001b[1;33m==\u001b[0m \u001b[1;36m0\u001b[0m\u001b[1;33m:\u001b[0m\u001b[1;33m\u001b[0m\u001b[0m\n\u001b[1;32m     44\u001b[0m             \u001b[0mprint\u001b[0m\u001b[1;33m(\u001b[0m\u001b[0miteration\u001b[0m\u001b[1;33m)\u001b[0m\u001b[1;33m\u001b[0m\u001b[0m\n",
      "\u001b[0;32m<ipython-input-31-38362810b3fb>\u001b[0m in \u001b[0;36mtestLearnI\u001b[0;34m(training_data, inhibitory_data, w, wEI, wII, wIE)\u001b[0m\n\u001b[1;32m      6\u001b[0m         \u001b[0mresult\u001b[0m \u001b[1;33m-=\u001b[0m \u001b[0mdot\u001b[0m\u001b[1;33m(\u001b[0m\u001b[0mwEI\u001b[0m\u001b[1;33m,\u001b[0m\u001b[0metaI\u001b[0m\u001b[1;33m)\u001b[0m\u001b[1;33m\u001b[0m\u001b[0m\n\u001b[1;32m      7\u001b[0m \u001b[1;33m\u001b[0m\u001b[0m\n\u001b[0;32m----> 8\u001b[0;31m         \u001b[0mresultI\u001b[0m \u001b[1;33m=\u001b[0m \u001b[0mdot\u001b[0m\u001b[1;33m(\u001b[0m\u001b[0mwIE\u001b[0m\u001b[1;33m,\u001b[0m\u001b[0meta\u001b[0m\u001b[1;33m)\u001b[0m\u001b[1;33m\u001b[0m\u001b[0m\n\u001b[0m\u001b[1;32m      9\u001b[0m         \u001b[0mresultI\u001b[0m \u001b[1;33m-=\u001b[0m \u001b[0mdot\u001b[0m\u001b[1;33m(\u001b[0m\u001b[0mwII\u001b[0m\u001b[1;33m,\u001b[0m\u001b[0metaI\u001b[0m\u001b[1;33m)\u001b[0m \u001b[1;33m-\u001b[0m \u001b[0mwII\u001b[0m\u001b[1;33m.\u001b[0m\u001b[0mdiagonal\u001b[0m\u001b[1;33m(\u001b[0m\u001b[1;33m)\u001b[0m\u001b[1;33m.\u001b[0m\u001b[0mreshape\u001b[0m\u001b[1;33m(\u001b[0m\u001b[1;33m-\u001b[0m\u001b[1;36m1\u001b[0m\u001b[1;33m,\u001b[0m\u001b[1;36m1\u001b[0m\u001b[1;33m)\u001b[0m \u001b[1;33m*\u001b[0m \u001b[0metaI\u001b[0m\u001b[1;33m\u001b[0m\u001b[0m\n\u001b[1;32m     10\u001b[0m         \u001b[1;32mif\u001b[0m \u001b[1;33m(\u001b[0m\u001b[1;33m(\u001b[0m\u001b[1;36m2\u001b[0m\u001b[1;33m*\u001b[0m\u001b[0meta\u001b[0m \u001b[1;33m-\u001b[0m \u001b[1;36m1\u001b[0m\u001b[1;33m)\u001b[0m\u001b[1;33m*\u001b[0m\u001b[1;33m(\u001b[0m\u001b[0mresult\u001b[0m \u001b[1;33m-\u001b[0m \u001b[0mT\u001b[0m\u001b[1;33m)\u001b[0m \u001b[1;33m<=\u001b[0m \u001b[0mK\u001b[0m\u001b[1;33m)\u001b[0m\u001b[1;33m.\u001b[0m\u001b[0many\u001b[0m\u001b[1;33m(\u001b[0m\u001b[1;33m)\u001b[0m \u001b[1;32mand\u001b[0m \u001b[1;33m(\u001b[0m\u001b[1;33m(\u001b[0m\u001b[1;36m2\u001b[0m\u001b[1;33m*\u001b[0m\u001b[0metaI\u001b[0m \u001b[1;33m-\u001b[0m \u001b[1;36m1\u001b[0m\u001b[1;33m)\u001b[0m\u001b[1;33m*\u001b[0m\u001b[1;33m(\u001b[0m\u001b[0mresultI\u001b[0m \u001b[1;33m-\u001b[0m \u001b[0mT\u001b[0m\u001b[1;33m)\u001b[0m \u001b[1;33m<=\u001b[0m \u001b[0mK\u001b[0m\u001b[1;33m)\u001b[0m\u001b[1;33m.\u001b[0m\u001b[0many\u001b[0m\u001b[1;33m(\u001b[0m\u001b[1;33m)\u001b[0m\u001b[1;33m:\u001b[0m\u001b[1;33m\u001b[0m\u001b[0m\n",
      "\u001b[0;31mKeyboardInterrupt\u001b[0m: "
     ]
    }
   ],
   "source": [
    "# https://blog.dbrgn.ch/2013/3/26/perceptrons-in-python/\n",
    "# http://machinelearningmastery.com/implement-perceptron-algorithm-scratch-python/\n",
    "\n",
    "from random import choice\n",
    "from numpy import array, dot, random\n",
    "import numpy as np\n",
    "training_data = generate_data(f,N)\n",
    "inhibitory_data = generate_data(fI,NI)\n",
    "\n",
    "w = random.uniform(0,2*T/(f*N),(N,N))\n",
    "l_rate = 0.01*T\n",
    "\n",
    "while l_rate > T * 1e-6:\n",
    "    iteration = 0\n",
    "    converged = testLearn(training_data, w)\n",
    "    while (not converged) and (iteration < 1e4):\n",
    "        mu = random.randint(training_data.shape[0])\n",
    "        eta = training_data[mu,:].reshape((-1,1))\n",
    "        etaI = inhibitory_data[mu,:].reshape((-1,1))\n",
    "        result = dot(w,eta) - w.diagonal().reshape(-1,1) * eta\n",
    "        result -= dot(wEI,etaI)\n",
    "        \n",
    "        resultI = dot(wIE,eta)\n",
    "        resultI -= dot(wII,etaI) - wII.diagonal().reshape(-1,1) * etaI\n",
    "        \n",
    "        untrained = np.nonzero((2*eta - 1)*(result - T) <= K)\n",
    "        untrainedI = np.nonzero((2*etaI - 1)*(resultI - T) <= K)\n",
    "        \n",
    "        DeltaW = l_rate * dot((2 * eta.reshape((-1,1)) - 1), eta.reshape((1,-1)))\n",
    "        np.fill_diagonal(DeltaW,0)\n",
    "        DeltaWIE = l_rate * dot((2 * etaI.reshape((-1,1)) - 1), eta.reshape((1,-1)))\n",
    "        np.fill_diagonal(DeltaWIE,0)\n",
    "        \n",
    "        w[untrained,:] = np.add(w[untrained,:], DeltaW[untrained,:])\n",
    "        w = (w>0) * w\n",
    "        w = w / w.mean() * T/(f*N)\n",
    "        \n",
    "        wIE[untrainedI,:] = np.add(wIE[untrainedI,:], DeltaWIE[untrainedI,:])\n",
    "        wIE = (wIE>0) * wIE\n",
    "        wIE = wIE / wIE.mean() * wInhib * T / (fI*NI)\n",
    "        \n",
    "        converged = testLearnI(training_data, inhibitory_data, w, wEI, wII, wIE)\n",
    "        if iteration  % 1000 == 0:\n",
    "            print(iteration)\n",
    "        iteration += 1\n",
    "        \n",
    "    if converged:\n",
    "        print(\"converged\")\n",
    "        #We have found p = 29 for our choice of parameters\n",
    "        if training_data.shape[0]<29:\n",
    "            training_data = np.vstack((training_data,generate_data(f,N)))\n",
    "            inhibitory_data = np.vstack((inhibitory_data,generate_data(fI,NI)))\n",
    "        else:\n",
    "            break\n",
    "            \n",
    "    else:\n",
    "        print(\"not\")\n",
    "        l_rate /= 2\n",
    "    \n",
    "    print(training_data.shape[0])"
   ]
  },
  {
   "cell_type": "markdown",
   "metadata": {},
   "source": [
    "Variant 3 : All plastic"
   ]
  },
  {
   "cell_type": "code",
   "execution_count": 36,
   "metadata": {
    "collapsed": false
   },
   "outputs": [
    {
     "name": "stdout",
     "output_type": "stream",
     "text": [
      "0\n",
      "converged\n",
      "2\n",
      "0\n",
      "converged\n",
      "3\n",
      "0\n",
      "1000\n",
      "2000\n",
      "3000\n",
      "4000\n",
      "5000\n"
     ]
    },
    {
     "ename": "KeyboardInterrupt",
     "evalue": "",
     "output_type": "error",
     "traceback": [
      "\u001b[0;31m---------------------------------------------------------------------------\u001b[0m",
      "\u001b[0;31mKeyboardInterrupt\u001b[0m                         Traceback (most recent call last)",
      "\u001b[0;32m<ipython-input-36-da89a0760f60>\u001b[0m in \u001b[0;36m<module>\u001b[0;34m()\u001b[0m\n\u001b[1;32m     37\u001b[0m         \u001b[0mnp\u001b[0m\u001b[1;33m.\u001b[0m\u001b[0mfill_diagonal\u001b[0m\u001b[1;33m(\u001b[0m\u001b[0mDeltaWII\u001b[0m\u001b[1;33m,\u001b[0m\u001b[1;36m0\u001b[0m\u001b[1;33m)\u001b[0m\u001b[1;33m\u001b[0m\u001b[0m\n\u001b[1;32m     38\u001b[0m \u001b[1;33m\u001b[0m\u001b[0m\n\u001b[0;32m---> 39\u001b[0;31m         \u001b[0mw\u001b[0m\u001b[1;33m[\u001b[0m\u001b[0muntrained\u001b[0m\u001b[1;33m,\u001b[0m\u001b[1;33m:\u001b[0m\u001b[1;33m]\u001b[0m \u001b[1;33m=\u001b[0m \u001b[0mnp\u001b[0m\u001b[1;33m.\u001b[0m\u001b[0madd\u001b[0m\u001b[1;33m(\u001b[0m\u001b[0mw\u001b[0m\u001b[1;33m[\u001b[0m\u001b[0muntrained\u001b[0m\u001b[1;33m,\u001b[0m\u001b[1;33m:\u001b[0m\u001b[1;33m]\u001b[0m\u001b[1;33m,\u001b[0m \u001b[0mDeltaW\u001b[0m\u001b[1;33m[\u001b[0m\u001b[0muntrained\u001b[0m\u001b[1;33m,\u001b[0m\u001b[1;33m:\u001b[0m\u001b[1;33m]\u001b[0m\u001b[1;33m)\u001b[0m\u001b[1;33m\u001b[0m\u001b[0m\n\u001b[0m\u001b[1;32m     40\u001b[0m         \u001b[0mw\u001b[0m \u001b[1;33m=\u001b[0m \u001b[1;33m(\u001b[0m\u001b[0mw\u001b[0m\u001b[1;33m>\u001b[0m\u001b[1;36m0\u001b[0m\u001b[1;33m)\u001b[0m \u001b[1;33m*\u001b[0m \u001b[0mw\u001b[0m\u001b[1;33m\u001b[0m\u001b[0m\n\u001b[1;32m     41\u001b[0m         \u001b[0mw\u001b[0m \u001b[1;33m=\u001b[0m \u001b[0mw\u001b[0m \u001b[1;33m/\u001b[0m \u001b[0mw\u001b[0m\u001b[1;33m.\u001b[0m\u001b[0mmean\u001b[0m\u001b[1;33m(\u001b[0m\u001b[1;33m)\u001b[0m \u001b[1;33m*\u001b[0m \u001b[0mT\u001b[0m\u001b[1;33m/\u001b[0m\u001b[1;33m(\u001b[0m\u001b[0mf\u001b[0m\u001b[1;33m*\u001b[0m\u001b[0mN\u001b[0m\u001b[1;33m)\u001b[0m\u001b[1;33m\u001b[0m\u001b[0m\n",
      "\u001b[0;31mKeyboardInterrupt\u001b[0m: "
     ]
    }
   ],
   "source": [
    "# https://blog.dbrgn.ch/2013/3/26/perceptrons-in-python/\n",
    "# http://machinelearningmastery.com/implement-perceptron-algorithm-scratch-python/\n",
    "\n",
    "from random import choice\n",
    "from numpy import array, dot, random\n",
    "import numpy as np\n",
    "training_data = generate_data(f,N)\n",
    "inhibitory_data = generate_data(fI,NI)\n",
    "\n",
    "w = random.uniform(0,2*T/(f*N),(N,N))\n",
    "l_rate = 0.01*T\n",
    "\n",
    "while l_rate > T * 1e-6:\n",
    "    iteration = 0\n",
    "    converged = testLearn(training_data, w)\n",
    "    while (not converged) and (iteration < 1e4):\n",
    "        mu = random.randint(training_data.shape[0])\n",
    "        eta = training_data[mu,:].reshape((-1,1))\n",
    "        etaI = inhibitory_data[mu,:].reshape((-1,1))\n",
    "        result = dot(w,eta) - w.diagonal().reshape(-1,1) * eta\n",
    "        result -= dot(wEI,etaI)\n",
    "        \n",
    "        resultI = dot(wIE,eta)\n",
    "        resultI -= dot(wII,etaI) - wII.diagonal().reshape(-1,1) * etaI\n",
    "        \n",
    "        untrained = np.nonzero((2*eta - 1)*(result - T) <= K)\n",
    "        untrainedI = np.nonzero((2*etaI - 1)*(resultI - T) <= K)\n",
    "        \n",
    "        DeltaW = l_rate * dot((2 * eta.reshape((-1,1)) - 1), eta.reshape((1,-1)))\n",
    "        np.fill_diagonal(DeltaW,0)\n",
    "        DeltaWIE = l_rate * dot((2 * etaI.reshape((-1,1)) - 1), eta.reshape((1,-1)))\n",
    "        np.fill_diagonal(DeltaWIE,0)\n",
    "        \n",
    "        DeltaWEI = l_rate * dot((2 * eta.reshape((-1,1)) - 1), etaI.reshape((1,-1)))\n",
    "        np.fill_diagonal(DeltaWEI,0)\n",
    "        DeltaWII = l_rate * dot((2 * etaI.reshape((-1,1)) - 1), etaI.reshape((1,-1)))\n",
    "        np.fill_diagonal(DeltaWII,0)\n",
    "        \n",
    "        w[untrained,:] = np.add(w[untrained,:], DeltaW[untrained,:])\n",
    "        w = (w>0) * w\n",
    "        w = w / w.mean() * T/(f*N)\n",
    "        \n",
    "        wIE[untrainedI,:] = np.add(wIE[untrainedI,:], DeltaWIE[untrainedI,:])\n",
    "        wIE = (wIE>0) * wIE\n",
    "        wIE = wIE / wIE.mean() * wInhib * T / (fI*NI)\n",
    "        \n",
    "        wEI[untrained,:] = np.add(wEI[untrained,:], DeltaWEI[untrained,:])\n",
    "        wEI = (wEI>0) * wEI\n",
    "        wEI = wEI / wEI.mean() * (1 + wInhib) * T / (f*N)\n",
    "        \n",
    "        wII[untrainedI,:] = np.add(wII[untrainedI,:], DeltaWII[untrainedI,:])\n",
    "        wII = (wII>0) * wII\n",
    "        wII = wII / wII.mean() * wInhib * T / (fI*NI)\n",
    "        \n",
    "        converged = testLearnI(training_data, inhibitory_data, w, wEI, wII, wIE)\n",
    "        if iteration  % 1000 == 0:\n",
    "            print(iteration)\n",
    "        iteration += 1\n",
    "        \n",
    "    if converged:\n",
    "        print(\"converged\")\n",
    "        #We have found p = 29 for our choice of parameters\n",
    "        if training_data.shape[0]<29:\n",
    "            training_data = np.vstack((training_data,generate_data(f,N)))\n",
    "            inhibitory_data = np.vstack((inhibitory_data,generate_data(fI,NI)))\n",
    "        else:\n",
    "            break\n",
    "            \n",
    "    else:\n",
    "        print(\"not\")\n",
    "        l_rate /= 2\n",
    "    \n",
    "    print(training_data.shape[0])"
   ]
  },
  {
   "cell_type": "code",
   "execution_count": null,
   "metadata": {
    "collapsed": true
   },
   "outputs": [],
   "source": []
  }
 ],
 "metadata": {
  "kernelspec": {
   "display_name": "py35",
   "language": "python",
   "name": "python3"
  },
  "language_info": {
   "codemirror_mode": {
    "name": "ipython",
    "version": 3
   },
   "file_extension": ".py",
   "mimetype": "text/x-python",
   "name": "python",
   "nbconvert_exporter": "python",
   "pygments_lexer": "ipython3",
   "version": "3.5.2"
  }
 },
 "nbformat": 4,
 "nbformat_minor": 2
}
