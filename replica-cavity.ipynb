{
 "cells": [
  {
   "cell_type": "code",
   "execution_count": 1,
   "metadata": {
    "ExecuteTime": {
     "end_time": "2017-04-02T00:18:59.447891",
     "start_time": "2017-04-02T00:18:59.025282"
    },
    "collapsed": true,
    "run_control": {
     "frozen": false,
     "read_only": false
    }
   },
   "outputs": [],
   "source": [
    "import numpy as np\n",
    "import matplotlib.pyplot as plt\n",
    "from math import pi,sqrt\n",
    "from numpy import exp\n",
    "from scipy.stats import norm\n",
    "from scipy.optimize import fsolve"
   ]
  },
  {
   "cell_type": "code",
   "execution_count": 2,
   "metadata": {
    "ExecuteTime": {
     "end_time": "2017-04-02T00:19:01.084385",
     "start_time": "2017-04-02T00:19:01.019773"
    },
    "collapsed": false
   },
   "outputs": [],
   "source": [
    "#param: theta, f, kappa\n",
    "# rho = 2.1 \n",
    "kappa_tilde = 1\n",
    "f = 0.25\n",
    "theta = 0.6\n",
    "\n",
    "\n",
    "\n",
    "w_mean = theta/f\n",
    "\n",
    "def Q_critic(list_x,f,theta,kappa_tilde): #x=w/w_mean\n",
    "    \n",
    "    #--------------get B----------------------\n",
    "    #1- Get M_tilde via Eq. (22)\n",
    "    def p(eps): #returns f if eps = 1, and 1-f if eps = -1\n",
    "        return f*eps + (1-eps)/2\n",
    "    func = lambda x: np.sum([p(eps) * eps * (G(-kappa_tilde + eps*f*x) - (-kappa_tilde + eps*f*x)*H(-kappa_tilde + eps*f*x))  for eps in [-1,1]])\n",
    "    M_tilde_initial_guess = 0.5\n",
    "    M_tilde = fsolve(func, M_tilde_initial_guess)\n",
    "    # Plot it\n",
    "#     absc = np.linspace(-0.5, 100, 10000)\n",
    "#     plt.plot(absc, [func(el) for el in absc])\n",
    "#     plt.xlabel(\"M_tilde\")\n",
    "#     plt.ylabel(\"expression value\")\n",
    "#     plt.grid()\n",
    "#     plt.show()\n",
    "#     print(\"The solution is M_tilde = %f\" % M_tilde)\n",
    "#     print(\"at which the value of the expression is %f\" % func(M_tilde))\n",
    "    \n",
    "    #2- Get tau_eps via Eq. (15)\n",
    "    def tau(eps):\n",
    "        return -kappa_tilde + eps*f*M_tilde\n",
    "    \n",
    "    #3- Get B via Eq. (27)\n",
    "    func = lambda x: ((1+x**2)*H(x)-x*G(x))/H(x) - \\\n",
    "                    np.sum([(f*eps + (1-eps)/2) * H(eps) for eps in [-1,1]]) / \\\n",
    "                            np.sum([(f*eps + (1-eps)/2) * ((1+tau(eps)**2)* H(tau(eps)) - tau(eps)*G(tau(eps))) for eps in [-1,1]])\n",
    "    B_initial_guess = 0.5\n",
    "    B = fsolve(func, B_initial_guess)\n",
    "    # Plot it\n",
    "#     absc = np.linspace(-0.5, 100, 10000)\n",
    "#     plt.plot(absc, [func(el) for el in absc])\n",
    "#     plt.xlabel(\"B\")\n",
    "#     plt.ylabel(\"expression value\")\n",
    "#     plt.grid()\n",
    "#     plt.show()\n",
    "    print(\"The solution is B = %f\" % B)\n",
    "#     print(\"at which the value of the expression is %f\" % func(B))\n",
    "    \n",
    "    #-----------------------------------------\n",
    "    \n",
    "    #Get w_s\n",
    "    w_s = get_w_s(B)\n",
    "    \n",
    "    #Return Q(x) where x = w/w_mean\n",
    "    return [H(-B) * (x==0) + 1/(sqrt(2*pi) * w_s) * exp(-1/(2* w_s**2) * (w_mean*x + B * w_s)**2) * (x>0) for x in list_x]\n",
    "\n",
    "def get_w_s(B):\n",
    "    return w_mean / (G(B) - B*H(B))\n",
    "  \n",
    "def H(x):\n",
    "    return 1 - norm.cdf(x, loc=0, scale=1)\n",
    "\n",
    "def G(x):\n",
    "    return exp(-x**2/2)/sqrt(2*pi)\n",
    "\n",
    "\n",
    "def Q_non_critic(alpha,list_x):\n",
    "    #get Q_hat\n",
    "    \n",
    "    #Get q_hat\n",
    "    \n",
    "    #Get M_hat\n",
    "    return"
   ]
  },
  {
   "cell_type": "code",
   "execution_count": null,
   "metadata": {
    "ExecuteTime": {
     "end_time": "2017-03-31T18:48:30.631953",
     "start_time": "2017-03-31T18:48:30.628057"
    },
    "collapsed": false
   },
   "outputs": [],
   "source": []
  },
  {
   "cell_type": "code",
   "execution_count": 3,
   "metadata": {
    "ExecuteTime": {
     "end_time": "2017-04-02T00:19:03.317316",
     "start_time": "2017-04-02T00:19:03.145592"
    },
    "collapsed": false
   },
   "outputs": [
    {
     "name": "stdout",
     "output_type": "stream",
     "text": [
      "The solution is B = 1.146774\n"
     ]
    },
    {
     "data": {
      "image/png": "[encoded data removed]",
      "text/plain": [
       "<matplotlib.figure.Figure at 0x7f050bfcf588>"
      ]
     },
     "metadata": {},
     "output_type": "display_data"
    }
   ],
   "source": [
    "list_w = [i/10 for i in range(100)]\n",
    "plt.plot(list_w,Q_critic(list_w,f,theta,kappa_tilde) )\n",
    "plt.title('Q_critic')\n",
    "plt.ylim(0,0.05)\n",
    "plt.show()"
   ]
  },
  {
   "cell_type": "code",
   "execution_count": null,
   "metadata": {
    "collapsed": true
   },
   "outputs": [],
   "source": []
  },
  {
   "cell_type": "code",
   "execution_count": 4,
   "metadata": {
    "ExecuteTime": {
     "end_time": "2017-04-02T00:19:05.292780",
     "start_time": "2017-04-02T00:19:05.287583"
    },
    "collapsed": false
   },
   "outputs": [],
   "source": [
    "\n",
    "\n",
    "# func = lambda x: np.sum([(f*eps + (1-eps)/2) * eps * (G(-kappa_tilde + eps*f*x) - (-kappa_tilde + eps*f*x)*H(-kappa_tilde + eps*f*x))  for eps in [-1,1]])\n",
    "\n",
    "\n",
    "# # Plot it\n",
    "# x = np.linspace(-0.5, 100, 10000)\n",
    "# plt.plot(x, [func(el) for el in x])\n",
    "# plt.xlabel(\"x\")\n",
    "# plt.ylabel(\"expression value\")\n",
    "# plt.grid()\n",
    "# plt.show()\n",
    "\n",
    "# # Use the numerical solver to find the roots\n",
    "\n",
    "# x_initial_guess = 0.5\n",
    "# x_solution = fsolve(func, x_initial_guess)\n",
    "\n",
    "# print(\"The solution is x = %f\" % x_solution)\n",
    "# print(\"at which the value of the expression is %f\" % func(x_solution))"
   ]
  },
  {
   "cell_type": "code",
   "execution_count": null,
   "metadata": {
    "collapsed": true
   },
   "outputs": [],
   "source": []
  },
  {
   "cell_type": "code",
   "execution_count": null,
   "metadata": {
    "collapsed": true
   },
   "outputs": [],
   "source": []
  },
  {
   "cell_type": "code",
   "execution_count": null,
   "metadata": {
    "collapsed": true
   },
   "outputs": [],
   "source": []
  },
  {
   "cell_type": "code",
   "execution_count": null,
   "metadata": {
    "collapsed": true
   },
   "outputs": [],
   "source": []
  },
  {
   "cell_type": "code",
   "execution_count": 5,
   "metadata": {
    "ExecuteTime": {
     "end_time": "2017-04-02T00:19:10.623954",
     "start_time": "2017-04-02T00:19:10.548999"
    },
    "collapsed": false
   },
   "outputs": [],
   "source": [
    "def y_2(B):\n",
    "    return (G(B)-B*H(B)) / sqrt((1+B**2)*H(B) - B*G(B))\n",
    "\n",
    "def get_z_as_y(y):\n",
    "    func = lambda z: f*(G(-y+z) - (-y+z)*H(-y+z)) - (1-f)*(G(-y-z) - (-y-z)*H(-y-z))\n",
    "    z_value_initial_guess = 0.5\n",
    "    z_value = fsolve(func, z_value_initial_guess)\n",
    "#     print(z_value)\n",
    "    return z_value\n",
    "\n",
    "def F_1(y):\n",
    "    z = get_z_as_y(y)\n",
    "    return (f*H(-y+z) + (1-f)*H(-y+z)) / \\\n",
    "        (f*((1+(-y+z)**2)*H(-y+z) - (-y+z)*G(-y+z)) +\\\n",
    "         (1-f)*((1+(-y-z)**2)*H(-y-z) - (-y-z)*G(-y-z)))\n",
    "         \n",
    "def y_1(B): \n",
    "    image = 1 + B**2 - B*G(B)/H(B)\n",
    "    func = lambda y: F_1(y) - image  #Computing the invert of F_1\n",
    "    y_1_initial_guess = 0.5\n",
    "    y_1_value = fsolve(func, y_1_initial_guess)\n",
    "#     print(y_1_value)\n",
    "    return y_1_value\n",
    "\n",
    "def rho(B):\n",
    "    return y_1(B) / y_2(B)\n",
    "\n",
    "# B_list = np.linspace(0, 5, 100)\n",
    "# plt.plot(B_list, [rho(el) for el in B_list])\n",
    "# plt.show()\n",
    "\n",
    "\n",
    "def B_from_rho(rho_value):\n",
    "    func = lambda B: rho_value - rho(B)\n",
    "    B_initial_guess = 0.5\n",
    "    B_value = fsolve(func, B_initial_guess)\n",
    "#     print(B_value)\n",
    "    return B_value\n",
    "\n",
    "def get_alpha_c(B,y,z):\n",
    "    tau_minus = -y+z\n",
    "    tau_plus = -y-z\n",
    "    return H(B) / (f*H(tau_minus) + (1-f)*H(tau_plus))\n",
    "\n",
    "\n",
    "def get_W_s(B):\n",
    "    return (theta/f) / (G(B) - B*H(B)) #W_mean = theta/f\n",
    "\n",
    "def get_p(W,B):\n",
    "    W_s = get_W_s(B)\n",
    "    return H(-B)*(W==0)  + \\\n",
    "        1/(sqrt(2*pi) * W_s) * exp(-1/(2* W_s**2) * (W + B * W_s)**2) * (W>0)\n",
    "\n"
   ]
  },
  {
   "cell_type": "code",
   "execution_count": 6,
   "metadata": {
    "ExecuteTime": {
     "end_time": "2017-04-02T00:19:13.599314",
     "start_time": "2017-04-02T00:19:12.243175"
    },
    "collapsed": false
   },
   "outputs": [
    {
     "name": "stdout",
     "output_type": "stream",
     "text": [
      "--------------Rho = 0------------------\n",
      "B = [-0.58031782]\n",
      "H(B) = [ 0.71914984]\n",
      "Fraction of silent synapses: H(-B) = [ 0.28085016]\n",
      "alpha_c = [ 1.73018146]\n",
      "--------------Rho = 1------------------\n",
      "B = [ 0.06200691]\n",
      "H(B) = [ 0.47527866]\n",
      "Fraction of silent synapses: H(-B) = [ 0.52472134]\n",
      "alpha_c = [ 0.80881635]\n",
      "--------------Rho = 2------------------\n",
      "B = [ 0.47818868]\n",
      "H(B) = [ 0.31625796]\n",
      "Fraction of silent synapses: H(-B) = [ 0.68374204]\n",
      "alpha_c = [ 0.46862752]\n",
      "--------------Rho = 3------------------\n",
      "B = [ 0.76136214]\n",
      "H(B) = [ 0.2232204]\n",
      "Fraction of silent synapses: H(-B) = [ 0.7767796]\n",
      "alpha_c = [ 0.30846764]\n"
     ]
    }
   ],
   "source": [
    "#Based on http://www.cell.com/neuron/fulltext/S0896-6273(04)00528-8\n",
    "#with its annex http://www.cell.com/cms/attachment/572560/4239133/mmc1.pdf\n",
    "\n",
    "\n",
    "#Parameters\n",
    "N = 800\n",
    "f = 0.25\n",
    "theta_prime = 3 #theta of the 1st article = theta_2/N (where theta_2 is from the 2nd article)\n",
    "theta = N*theta_prime #i.e. T of our article\n",
    "rho_exp_list = [0,1,2,3]\n",
    "\n",
    "\n",
    "\n",
    "proba_all = []\n",
    "for rho_exp in rho_exp_list:\n",
    "    print(\"--------------Rho = \"+str(rho_exp)+\"------------------\")\n",
    "    B = B_from_rho(rho_exp)\n",
    "    print(\"B =\",B)\n",
    "    print(\"Fraction of strictly positive synapses: H(B) =\",H(B))\n",
    "    print(\"Fraction of silent synapses: H(-B) =\",H(-B))\n",
    "    y = y_1(B)\n",
    "\n",
    "\n",
    "    # kappa_tilde = y*sqrt(N)\n",
    "    # print(\"kappa_tilde =\",kappa_tilde)\n",
    "    # list_w = [i/10 for i in range(100)]\n",
    "    # plt.plot(list_w,Q_critic(list_w,f,theta,kappa_tilde) )\n",
    "    # plt.title('Q_critic')\n",
    "    # plt.show()\n",
    "\n",
    "    z = get_z_as_y(y)\n",
    "    alpha_c = get_alpha_c(B,y,z)\n",
    "    print(\"alpha_c =\",alpha_c)\n",
    "\n",
    "\n",
    "\n",
    "    absc = [i/100 for i in range(1000)]\n",
    "    proba = [get_p(x*theta/f,B) for x in absc] #x=w/w_mean=W/W_mean  where W_mean = theta/f\n",
    "    proba_all.append(proba)"
   ]
  },
  {
   "cell_type": "code",
   "execution_count": 9,
   "metadata": {
    "ExecuteTime": {
     "end_time": "2017-04-02T00:19:27.013124",
     "start_time": "2017-04-02T00:19:26.758547"
    },
    "collapsed": false
   },
   "outputs": [
    {
     "data": {
      "image/png": "[encoded data removed]",
      "text/plain": [
       "<matplotlib.figure.Figure at 0x7f04ffd16a58>"
      ]
     },
     "metadata": {},
     "output_type": "display_data"
    }
   ],
   "source": [
    "for i in range(len(rho_exp_list)):\n",
    "    plt.plot(absc,proba_all[i],label=\"rho = \"+str(rho_exp_list[i]))\n",
    "plt.legend()\n",
    "# plt.ylim(0,0.00005)\n",
    "y_max_plot = np.max(proba_all[0][1:])\n",
    "plt.ylim(0,y_max_plot*1.2)\n",
    "plt.title('P(W/W_mean) for f = '+str(f)+' and N = '+str(N))\n",
    "plt.show()"
   ]
  },
  {
   "cell_type": "code",
   "execution_count": 14,
   "metadata": {
    "ExecuteTime": {
     "end_time": "2017-04-02T00:28:13.295212",
     "start_time": "2017-04-02T00:27:33.000677"
    },
    "collapsed": false
   },
   "outputs": [
    {
     "name": "stderr",
     "output_type": "stream",
     "text": [
      "/home/vincent/anaconda3/lib/python3.5/site-packages/scipy/optimize/minpack.py:161: RuntimeWarning: The iteration is not making good progress, as measured by the \n",
      "  improvement from the last ten iterations.\n",
      "  warnings.warn(msg, RuntimeWarning)\n"
     ]
    }
   ],
   "source": [
    "#Get Figure 2 of our article\n",
    "\n",
    "#Parameters\n",
    "N = 800\n",
    "f_list = [0.01,0.1,0.25,0.5]\n",
    "theta_prime = 3 #theta of the 1st article = theta_2/N (where theta_2 is from the 2nd article)\n",
    "theta = N*theta_prime #i.e. T of our article\n",
    "rho_exp_list = [i/5 for i in range(40)]\n",
    "\n",
    "connection_proba = []\n",
    "for f in f_list:\n",
    "    print(\"f =\",f)\n",
    "    connection_proba_f = []\n",
    "    for rho_exp in rho_exp_list:\n",
    "        B = B_from_rho(rho_exp)\n",
    "#         print(\"Fraction of strictly positive synapses: H(B) =\",H(B))\n",
    "        connection_proba_f.append(H(B))\n",
    "    connection_proba.append(connection_proba_f)"
   ]
  },
  {
   "cell_type": "code",
   "execution_count": 15,
   "metadata": {
    "ExecuteTime": {
     "end_time": "2017-04-02T00:29:45.447691",
     "start_time": "2017-04-02T00:29:45.276444"
    },
    "collapsed": false
   },
   "outputs": [
    {
     "data": {
      "image/png": "[encoded data removed]",
      "text/plain": [
       "<matplotlib.figure.Figure at 0x7f04ffc90e48>"
      ]
     },
     "metadata": {},
     "output_type": "display_data"
    }
   ],
   "source": [
    "for i in range(len(connection_proba)):\n",
    "    plt.plot(rho_exp_list,connection_proba[i],label=\"f = \"+str(f_list[i]))\n",
    "plt.legend()\n",
    "# plt.ylim(0,0.00005)\n",
    "# y_max_plot = np.max(proba_all[0][1:])\n",
    "# plt.ylim(0,y_max_plot*1.2)\n",
    "# plt.title('Connection probability, for N = '+str(N))\n",
    "plt.show()"
   ]
  },
  {
   "cell_type": "code",
   "execution_count": null,
   "metadata": {
    "collapsed": true
   },
   "outputs": [],
   "source": []
  }
 ],
 "metadata": {
  "kernelspec": {
   "display_name": "Python [conda root]",
   "language": "python",
   "name": "conda-root-py"
  },
  "language_info": {
   "codemirror_mode": {
    "name": "ipython",
    "version": 3
   },
   "file_extension": ".py",
   "mimetype": "text/x-python",
   "name": "python",
   "nbconvert_exporter": "python",
   "pygments_lexer": "ipython3",
   "version": "3.5.2"
  }
 },
 "nbformat": 4,
 "nbformat_minor": 2
}
