{
 "cells": [
  {
   "cell_type": "code",
   "execution_count": 49,
   "metadata": {
    "ExecuteTime": {
     "end_time": "2017-04-02T17:32:13.053267",
     "start_time": "2017-04-02T17:32:13.047583"
    },
    "collapsed": true,
    "run_control": {
     "frozen": false,
     "read_only": false
    }
   },
   "outputs": [],
   "source": [
    "import numpy as np\n",
    "import matplotlib.pyplot as plt\n",
    "from math import pi,sqrt\n",
    "from numpy import exp\n",
    "from scipy.stats import norm\n",
    "from scipy.optimize import fsolve\n",
    "from scipy.integrate import quad"
   ]
  },
  {
   "cell_type": "code",
   "execution_count": 50,
   "metadata": {
    "ExecuteTime": {
     "end_time": "2017-04-02T17:32:13.611750",
     "start_time": "2017-04-02T17:32:13.532595"
    },
    "collapsed": false
   },
   "outputs": [],
   "source": [
    "#param: theta, f, kappa\n",
    "# rho = 2.1 \n",
    "kappa_tilde = 1\n",
    "f = 0.25\n",
    "theta = 0.6\n",
    "\n",
    "\n",
    "\n",
    "w_mean = theta/f\n",
    "\n",
    "def Q_critic(list_x,f,theta,kappa_tilde): #x=w/w_mean\n",
    "    \n",
    "    #--------------get B----------------------\n",
    "    #1- Get M_tilde via Eq. (22)\n",
    "    func = lambda x: np.sum([p_eps(eps) * eps * (G(-kappa_tilde + eps*f*x) - (-kappa_tilde + eps*f*x)*H(-kappa_tilde + eps*f*x))  for eps in [-1,1]])\n",
    "    M_tilde_initial_guess = 0.5\n",
    "    M_tilde = fsolve(func, M_tilde_initial_guess)\n",
    "    # Plot it\n",
    "#     absc = np.linspace(-0.5, 100, 10000)\n",
    "#     plt.plot(absc, [func(el) for el in absc])\n",
    "#     plt.xlabel(\"M_tilde\")\n",
    "#     plt.ylabel(\"expression value\")\n",
    "#     plt.grid()\n",
    "#     plt.show()\n",
    "#     print(\"The solution is M_tilde = %f\" % M_tilde)\n",
    "#     print(\"at which the value of the expression is %f\" % func(M_tilde))\n",
    "    \n",
    "    #2-Get tau from eps\n",
    "    def tau(eps): #Eq. (15)\n",
    "        return -kappa_tilde + eps*f*M_tilde\n",
    "    \n",
    "    #3- Get B via Eq. (27)\n",
    "    func = lambda x: ((1+x**2)*H(x)-x*G(x))/H(x) - \\\n",
    "                    np.sum([(f*eps + (1-eps)/2) * H(eps) for eps in [-1,1]]) / \\\n",
    "                            np.sum([(f*eps + (1-eps)/2) * ((1+tau(eps)**2)* H(tau(eps)) - tau(eps)*G(tau(eps))) for eps in [-1,1]])\n",
    "    B_initial_guess = 0.5\n",
    "    B = fsolve(func, B_initial_guess)\n",
    "    # Plot it\n",
    "#     absc = np.linspace(-0.5, 100, 10000)\n",
    "#     plt.plot(absc, [func(el) for el in absc])\n",
    "#     plt.xlabel(\"B\")\n",
    "#     plt.ylabel(\"expression value\")\n",
    "#     plt.grid()\n",
    "#     plt.show()\n",
    "    print(\"The solution is B = %f\" % B)\n",
    "#     print(\"at which the value of the expression is %f\" % func(B))\n",
    "    \n",
    "    #-----------------------------------------\n",
    "    \n",
    "    #Get w_s\n",
    "    w_s = get_w_s(B,w_mean)\n",
    "    \n",
    "    #Return Q(x) where x = w/w_mean\n",
    "    return [H(-B) * (x==0) + 1/(sqrt(2*pi) * w_s) * exp(-1/(2* w_s**2) * (w_mean*x + B * w_s)**2) * (x>0) for x in list_x]\n",
    "\n",
    "def get_w_s(B,w_mean):\n",
    "    return w_mean / (G(B) - B*H(B))\n",
    "  \n",
    "def H(x):\n",
    "    return 1 - norm.cdf(x, loc=0, scale=1)\n",
    "\n",
    "def G(x):\n",
    "    return exp(-x**2/2)/sqrt(2*pi)\n",
    "    \n",
    "def p_eps(eps): #returns f if eps = 1, and 1-f if eps = -1\n",
    "    return f*eps + (1-eps)/2\n"
   ]
  },
  {
   "cell_type": "code",
   "execution_count": 51,
   "metadata": {
    "ExecuteTime": {
     "end_time": "2017-04-02T17:32:15.071104",
     "start_time": "2017-04-02T17:32:14.898114"
    },
    "collapsed": false
   },
   "outputs": [
    {
     "name": "stdout",
     "output_type": "stream",
     "text": [
      "The solution is B = 1.146774\n"
     ]
    },
    {
     "data": {
      "image/png": "[encoded data removed]",
      "text/plain": [
       "<matplotlib.figure.Figure at 0x7fea521f0240>"
      ]
     },
     "metadata": {},
     "output_type": "display_data"
    }
   ],
   "source": [
    "list_w = [i/10 for i in range(100)]\n",
    "plt.plot(list_w,Q_critic(list_w,f,theta,kappa_tilde) )\n",
    "plt.title('Q_critic')\n",
    "plt.ylim(0,0.05)\n",
    "plt.show()"
   ]
  },
  {
   "cell_type": "code",
   "execution_count": null,
   "metadata": {
    "collapsed": true
   },
   "outputs": [],
   "source": []
  },
  {
   "cell_type": "code",
   "execution_count": 52,
   "metadata": {
    "ExecuteTime": {
     "end_time": "2017-04-02T17:32:16.895587",
     "start_time": "2017-04-02T17:32:16.892220"
    },
    "collapsed": false
   },
   "outputs": [],
   "source": [
    "\n",
    "\n",
    "# func = lambda x: np.sum([(f*eps + (1-eps)/2) * eps * (G(-kappa_tilde + eps*f*x) - (-kappa_tilde + eps*f*x)*H(-kappa_tilde + eps*f*x))  for eps in [-1,1]])\n",
    "\n",
    "\n",
    "# # Plot it\n",
    "# x = np.linspace(-0.5, 100, 10000)\n",
    "# plt.plot(x, [func(el) for el in x])\n",
    "# plt.xlabel(\"x\")\n",
    "# plt.ylabel(\"expression value\")\n",
    "# plt.grid()\n",
    "# plt.show()\n",
    "\n",
    "# # Use the numerical solver to find the roots\n",
    "\n",
    "# x_initial_guess = 0.5\n",
    "# x_solution = fsolve(func, x_initial_guess)\n",
    "\n",
    "# print(\"The solution is x = %f\" % x_solution)\n",
    "# print(\"at which the value of the expression is %f\" % func(x_solution))"
   ]
  },
  {
   "cell_type": "code",
   "execution_count": null,
   "metadata": {
    "collapsed": true
   },
   "outputs": [],
   "source": []
  },
  {
   "cell_type": "code",
   "execution_count": null,
   "metadata": {
    "collapsed": true
   },
   "outputs": [],
   "source": []
  },
  {
   "cell_type": "code",
   "execution_count": null,
   "metadata": {
    "collapsed": true
   },
   "outputs": [],
   "source": []
  },
  {
   "cell_type": "markdown",
   "metadata": {},
   "source": [
    "# Cavity method (not from our article)"
   ]
  },
  {
   "cell_type": "code",
   "execution_count": 102,
   "metadata": {
    "ExecuteTime": {
     "end_time": "2017-04-02T23:05:45.524112",
     "start_time": "2017-04-02T23:05:45.458778"
    },
    "collapsed": false
   },
   "outputs": [],
   "source": [
    "#Based on http://www.cell.com/neuron/fulltext/S0896-6273(04)00528-8\n",
    "#with its annex http://www.cell.com/cms/attachment/572560/4239133/mmc1.pdf\n",
    "\n",
    "\n",
    "\n",
    "def y_2(B):\n",
    "    return (G(B)-B*H(B)) / sqrt((1+B**2)*H(B) - B*G(B))\n",
    "\n",
    "def get_z_as_y(y):\n",
    "    func = lambda z: f*(G(-y+z) - (-y+z)*H(-y+z)) - (1-f)*(G(-y-z) - (-y-z)*H(-y-z))\n",
    "    z_value_initial_guess = 0\n",
    "    z_value = fsolve(func, z_value_initial_guess)\n",
    "#     #Plot it\n",
    "#     absc = np.linspace(-2, 2, 100)\n",
    "#     plt.plot(absc, [func(el) for el in absc])\n",
    "#     plt.xlabel(\"z\")\n",
    "#     plt.grid()\n",
    "#     plt.show()\n",
    "#     print(\"The solution is z_value = %f\" % z_value)\n",
    "#     print(\"at which the value of the expression is %f\" % func(z_value))\n",
    "#     print(z_value)\n",
    "    return z_value\n",
    "\n",
    "def F_1(y):\n",
    "    z = get_z_as_y(y)\n",
    "    return (f*H(-y+z) + (1-f)*H(-y+z)) / \\\n",
    "        (f*((1+(-y+z)**2)*H(-y+z) - (-y+z)*G(-y+z)) +\\\n",
    "         (1-f)*((1+(-y-z)**2)*H(-y-z) - (-y-z)*G(-y-z)))\n",
    "         \n",
    "def y_1(B): \n",
    "    image = 1 + B**2 - B*G(B)/H(B)\n",
    "    func = lambda y: F_1(y) - image  #Computing the invert of F_1\n",
    "    y_1_initial_guess = 0\n",
    "    y_1_value = fsolve(func, y_1_initial_guess)\n",
    "#     #Plot it\n",
    "#     absc = np.linspace(-2, 2, 100)\n",
    "#     plt.plot(absc, [func(el) for el in absc])\n",
    "#     plt.xlabel(\"B\")\n",
    "#     plt.grid()\n",
    "#     plt.show()\n",
    "#     print(\"The solution is y_1_value = %f\" % y_1_value)\n",
    "#     print(\"at which the value of the expression is %f\" % func(y_1_value))\n",
    "    return y_1_value\n",
    "\n",
    "def rho_from_B(B):\n",
    "    return y_1(B) / y_2(B)\n",
    "\n",
    "# B_list = np.linspace(0, 5, 100)\n",
    "# plt.plot(B_list, [rho_from_B(el) for el in B_list])\n",
    "# plt.show()\n",
    "\n",
    "\n",
    "def B_from_rho(rho_value):\n",
    "#     print(\"Checkpoint 1\")\n",
    "    func_b = lambda B: rho_value - rho_from_B(B)\n",
    "#     print(\"Checkpoint 3\")\n",
    "    B_initial_guess = 0\n",
    "#     print(\"Checkpoint 4\")\n",
    "    B_value = fsolve(func_b, B_initial_guess)\n",
    "#     #Plot it\n",
    "#     absc = np.linspace(-2, 2, 100)\n",
    "#     plt.plot(absc, [func_b(el) for el in absc])\n",
    "#     plt.xlabel(\"B\")\n",
    "#     plt.grid()\n",
    "#     plt.show()\n",
    "    print(\"The solution is B_value = %f\" % B_value)\n",
    "#     print(\"at which the value of the expression is %f\" % func_b(B_value))\n",
    "#     print(\"Checkpoint 5\")\n",
    "#     print(B_value)\n",
    "    return B_value\n",
    "\n",
    "def get_alpha_c(B,y,z):\n",
    "    tau_minus = -y+z\n",
    "    tau_plus = -y-z\n",
    "    return H(B) / (f*H(tau_minus) + (1-f)*H(tau_plus))\n",
    "\n",
    "\n",
    "def get_W_s(B):\n",
    "    return (theta/f) / (G(B) - B*H(B)) #W_mean = theta/f\n",
    "\n",
    "def get_p(W,B):\n",
    "    W_s = get_W_s(B)\n",
    "    return H(-B)*(W==0)  + \\\n",
    "        1/(sqrt(2*pi) * W_s) * exp(-1/(2* W_s**2) * (W + B * W_s)**2) * (W>0)\n",
    "\n"
   ]
  },
  {
   "cell_type": "code",
   "execution_count": 126,
   "metadata": {
    "ExecuteTime": {
     "end_time": "2017-04-02T23:46:28.914203",
     "start_time": "2017-04-02T23:46:27.496140"
    },
    "collapsed": false
   },
   "outputs": [
    {
     "name": "stdout",
     "output_type": "stream",
     "text": [
      "--------------Rho = 0------------------\n",
      "The solution is B_value = -0.580318\n",
      "B = [-0.58031782]\n",
      "Fraction of strictly positive synapses: H(B) = [ 0.71914984]\n",
      "Fraction of silent synapses: H(-B) = [ 0.28085016]\n",
      "y [ -7.45159625e-17]\n",
      "alpha_c = [ 1.73018146]\n",
      "--------------Rho = 1------------------\n",
      "The solution is B_value = 0.062007\n",
      "B = [ 0.06200691]\n",
      "Fraction of strictly positive synapses: H(B) = [ 0.47527866]\n",
      "Fraction of silent synapses: H(-B) = [ 0.52472134]\n",
      "y [ 0.54816396]\n",
      "alpha_c = [ 0.80881635]\n",
      "--------------Rho = 2------------------\n",
      "The solution is B_value = 0.478189\n",
      "B = [ 0.47818868]\n",
      "Fraction of strictly positive synapses: H(B) = [ 0.31625796]\n",
      "Fraction of silent synapses: H(-B) = [ 0.68374204]\n",
      "y [ 0.87561947]\n",
      "alpha_c = [ 0.46862752]\n",
      "--------------Rho = 3------------------\n",
      "The solution is B_value = 0.761362\n",
      "B = [ 0.76136214]\n",
      "Fraction of strictly positive synapses: H(B) = [ 0.2232204]\n",
      "Fraction of silent synapses: H(-B) = [ 0.7767796]\n",
      "y [ 1.08999349]\n",
      "alpha_c = [ 0.30846764]\n"
     ]
    }
   ],
   "source": [
    "\n",
    "#Parameters\n",
    "N = 800\n",
    "f = 0.25\n",
    "theta_prime = 3 #theta of the 1st article = theta_2/N (where theta_2 is from the 2nd article)\n",
    "theta = N*theta_prime #i.e. T of our article\n",
    "theta = 0.2\n",
    "rho_exp_list = [0,1,2,3]\n",
    "\n",
    "\n",
    "\n",
    "proba_all = []\n",
    "for rho_exp in rho_exp_list:\n",
    "    print(\"--------------Rho = \"+str(rho_exp)+\"------------------\")\n",
    "    B = B_from_rho(rho_exp)\n",
    "    print(\"B =\",B)\n",
    "    print(\"Fraction of strictly positive synapses: H(B) =\",H(B))\n",
    "    print(\"Fraction of silent synapses: H(-B) =\",H(-B))\n",
    "    y = y_1(B)\n",
    "    print(\"y\",y)\n",
    "\n",
    "    # kappa_tilde = y*sqrt(N)\n",
    "    # print(\"kappa_tilde =\",kappa_tilde)\n",
    "    # list_w = [i/10 for i in range(100)]\n",
    "    # plt.plot(list_w,Q_critic(list_w,f,theta,kappa_tilde) )\n",
    "    # plt.title('Q_critic')\n",
    "    # plt.show()\n",
    "\n",
    "    z = get_z_as_y(y)\n",
    "    alpha_c = get_alpha_c(B,y,z)\n",
    "    print(\"alpha_c =\",alpha_c)\n",
    "\n",
    "    absc = np.linspace(0,10,1000)\n",
    "    proba = [get_p(x*theta/f,B) for x in absc] #x=w/w_mean=W/W_mean  where W_mean = theta/f\n",
    "    proba_all.append(proba)"
   ]
  },
  {
   "cell_type": "code",
   "execution_count": 128,
   "metadata": {
    "ExecuteTime": {
     "end_time": "2017-04-03T00:02:01.170933",
     "start_time": "2017-04-03T00:02:00.988033"
    },
    "collapsed": false
   },
   "outputs": [
    {
     "data": {
      "image/png": "[encoded data removed]",
      "text/plain": [
       "<matplotlib.figure.Figure at 0x7fea53f21b38>"
      ]
     },
     "metadata": {},
     "output_type": "display_data"
    }
   ],
   "source": [
    "for i in range(len(rho_exp_list)):\n",
    "    plt.plot(absc,proba_all[i],label=\"rho = \"+str(rho_exp_list[i]))\n",
    "plt.legend()\n",
    "# plt.ylim(0,0.00000000005)\n",
    "y_max_plot = np.max(proba_all[0][1:])\n",
    "plt.ylim(0,y_max_plot*1.2)\n",
    "plt.title('P(W/W_mean) for f = '+str(f)+' and N = '+str(N))\n",
    "plt.ylabel('Probabilitiy density')\n",
    "plt.xlabel('Synaptic weight')\n",
    "plt.show()"
   ]
  },
  {
   "cell_type": "code",
   "execution_count": 130,
   "metadata": {
    "ExecuteTime": {
     "end_time": "2017-04-03T00:11:03.459231",
     "start_time": "2017-04-03T00:10:22.910832"
    },
    "collapsed": false,
    "scrolled": true
   },
   "outputs": [
    {
     "name": "stdout",
     "output_type": "stream",
     "text": [
      "f = 0.01\n"
     ]
    },
    {
     "name": "stderr",
     "output_type": "stream",
     "text": [
      "/home/vincent/anaconda3/lib/python3.5/site-packages/scipy/optimize/minpack.py:161: RuntimeWarning: The iteration is not making good progress, as measured by the \n",
      "  improvement from the last ten iterations.\n",
      "  warnings.warn(msg, RuntimeWarning)\n"
     ]
    },
    {
     "name": "stdout",
     "output_type": "stream",
     "text": [
      "The solution is B_value = -4.168032\n",
      "The solution is B_value = -3.859390\n",
      "The solution is B_value = -3.579459\n",
      "The solution is B_value = -3.326733\n",
      "The solution is B_value = -3.099147\n",
      "The solution is B_value = -2.894295\n",
      "The solution is B_value = -2.709655\n",
      "The solution is B_value = -2.542771\n",
      "The solution is B_value = -2.391370\n",
      "The solution is B_value = -2.253426\n",
      "The solution is B_value = -2.127177\n",
      "The solution is B_value = -2.011114\n",
      "The solution is B_value = -1.903955\n",
      "The solution is B_value = -1.804616\n",
      "The solution is B_value = -1.712179\n",
      "The solution is B_value = -1.625864\n",
      "The solution is B_value = -1.545009\n",
      "The solution is B_value = -1.469045\n",
      "The solution is B_value = -1.397483\n",
      "The solution is B_value = -1.329900\n",
      "The solution is B_value = -1.265929\n",
      "The solution is B_value = -1.205246\n",
      "The solution is B_value = -1.147571\n",
      "The solution is B_value = -1.092652\n",
      "The solution is B_value = -1.040269\n",
      "The solution is B_value = -0.990225\n",
      "The solution is B_value = -0.942344\n",
      "The solution is B_value = -0.896468\n",
      "The solution is B_value = -0.852456\n",
      "The solution is B_value = -0.810178\n",
      "The solution is B_value = -0.769519\n",
      "The solution is B_value = -0.730374\n",
      "The solution is B_value = -0.692647\n",
      "The solution is B_value = -0.656250\n",
      "The solution is B_value = -0.621103\n",
      "The solution is B_value = -0.587133\n",
      "The solution is B_value = -0.554272\n",
      "The solution is B_value = -0.522458\n",
      "The solution is B_value = -0.491633\n",
      "The solution is B_value = -0.461746\n",
      "f = 0.1\n",
      "The solution is B_value = -1.386112\n",
      "The solution is B_value = -1.251436\n",
      "The solution is B_value = -1.122928\n",
      "The solution is B_value = -1.000982\n",
      "The solution is B_value = -0.885824\n",
      "The solution is B_value = -0.777505\n",
      "The solution is B_value = -0.675919\n",
      "The solution is B_value = -0.580831\n",
      "The solution is B_value = -0.491913\n",
      "The solution is B_value = -0.408782\n",
      "The solution is B_value = -0.331029\n",
      "The solution is B_value = -0.258237\n",
      "The solution is B_value = -0.190001\n",
      "The solution is B_value = -0.125939\n",
      "The solution is B_value = -0.065692\n",
      "The solution is B_value = -0.008930\n",
      "The solution is B_value = 0.044646\n",
      "The solution is B_value = 0.095309\n",
      "The solution is B_value = 0.143305\n",
      "The solution is B_value = 0.188854\n",
      "The solution is B_value = 0.232157\n",
      "The solution is B_value = 0.273393\n",
      "The solution is B_value = 0.312722\n",
      "The solution is B_value = 0.350292\n",
      "The solution is B_value = 0.386232\n",
      "The solution is B_value = 0.420662\n",
      "The solution is B_value = 0.453688\n",
      "The solution is B_value = 0.485408\n",
      "The solution is B_value = 0.515910\n",
      "The solution is B_value = 0.545274\n",
      "The solution is B_value = 0.573573\n",
      "The solution is B_value = 0.600875\n",
      "The solution is B_value = 0.627240\n",
      "The solution is B_value = 0.652724\n",
      "The solution is B_value = 0.677379\n",
      "The solution is B_value = 0.701252\n",
      "The solution is B_value = 0.724387\n",
      "The solution is B_value = 0.746824\n",
      "The solution is B_value = 0.768600\n",
      "The solution is B_value = 0.789749\n",
      "f = 0.25\n",
      "The solution is B_value = -0.580318\n",
      "The solution is B_value = -0.482778\n",
      "The solution is B_value = -0.389673\n",
      "The solution is B_value = -0.301131\n",
      "The solution is B_value = -0.217175\n",
      "The solution is B_value = -0.137736\n",
      "The solution is B_value = -0.062678\n",
      "The solution is B_value = 0.008187\n",
      "The solution is B_value = 0.075079\n",
      "The solution is B_value = 0.138235\n",
      "The solution is B_value = 0.197898\n",
      "The solution is B_value = 0.254309\n",
      "The solution is B_value = 0.307701\n",
      "The solution is B_value = 0.358294\n",
      "The solution is B_value = 0.406297\n",
      "The solution is B_value = 0.451902\n",
      "The solution is B_value = 0.495287\n",
      "The solution is B_value = 0.536618\n",
      "The solution is B_value = 0.576043\n",
      "The solution is B_value = 0.613701\n",
      "The solution is B_value = 0.649717\n",
      "The solution is B_value = 0.684206\n",
      "The solution is B_value = 0.717274\n",
      "The solution is B_value = 0.749017\n",
      "The solution is B_value = 0.779521\n",
      "The solution is B_value = 0.808867\n",
      "The solution is B_value = 0.837129\n",
      "The solution is B_value = 0.864375\n",
      "The solution is B_value = 0.890665\n",
      "The solution is B_value = 0.916058\n",
      "The solution is B_value = 0.940605\n",
      "The solution is B_value = 0.964355\n",
      "The solution is B_value = 0.987353\n",
      "The solution is B_value = 1.009639\n",
      "The solution is B_value = 1.031252\n",
      "The solution is B_value = 1.052228\n",
      "The solution is B_value = 1.072598\n",
      "The solution is B_value = 1.092395\n",
      "The solution is B_value = 1.111646\n",
      "The solution is B_value = 1.130377\n",
      "f = 0.5\n",
      "The solution is B_value = 0.000000\n",
      "The solution is B_value = 0.070550\n",
      "The solution is B_value = 0.137593\n",
      "The solution is B_value = 0.201243\n",
      "The solution is B_value = 0.261642\n",
      "The solution is B_value = 0.318953\n",
      "The solution is B_value = 0.373347\n",
      "The solution is B_value = 0.425001\n",
      "The solution is B_value = 0.474086\n",
      "The solution is B_value = 0.520772\n",
      "The solution is B_value = 0.565219\n",
      "The solution is B_value = 0.607579\n",
      "The solution is B_value = 0.647995\n",
      "The solution is B_value = 0.686598\n",
      "The solution is B_value = 0.723513\n",
      "The solution is B_value = 0.758853\n",
      "The solution is B_value = 0.792723\n",
      "The solution is B_value = 0.825220\n",
      "The solution is B_value = 0.856433\n",
      "The solution is B_value = 0.886445\n",
      "The solution is B_value = 0.915330\n",
      "The solution is B_value = 0.943159\n",
      "The solution is B_value = 0.969995\n",
      "The solution is B_value = 0.995897\n",
      "The solution is B_value = 1.020921\n",
      "The solution is B_value = 1.045117\n",
      "The solution is B_value = 1.068531\n",
      "The solution is B_value = 1.091206\n",
      "The solution is B_value = 1.113182\n",
      "The solution is B_value = 1.134497\n",
      "The solution is B_value = 1.155184\n",
      "The solution is B_value = 1.175276\n",
      "The solution is B_value = 1.194803\n",
      "The solution is B_value = 1.213792\n",
      "The solution is B_value = 1.232269\n",
      "The solution is B_value = 1.250259\n",
      "The solution is B_value = 1.267784\n",
      "The solution is B_value = 1.284865\n",
      "The solution is B_value = 1.301523\n",
      "The solution is B_value = 1.317775\n"
     ]
    }
   ],
   "source": [
    "#Get Figure 2 of our article\n",
    "\n",
    "#Parameters\n",
    "N = 800\n",
    "f_list = [0.01,0.1,0.25,0.5]\n",
    "theta_prime = 3 #theta of the 1st article = theta_2/N (where theta_2 is from the 2nd article)\n",
    "theta = N*theta_prime #i.e. T of our article\n",
    "theta = 0.2\n",
    "rho_exp_list = np.linspace(0,5,40)\n",
    "\n",
    "connection_proba = []\n",
    "for f in f_list:\n",
    "    print(\"f =\",f)\n",
    "    connection_proba_f = []\n",
    "    for rho_exp in rho_exp_list:\n",
    "        B = B_from_rho(rho_exp)\n",
    "#         print(\"Fraction of strictly positive synapses: H(B) =\",H(B))\n",
    "        connection_proba_f.append(H(B))\n",
    "    connection_proba.append(connection_proba_f)"
   ]
  },
  {
   "cell_type": "code",
   "execution_count": 131,
   "metadata": {
    "ExecuteTime": {
     "end_time": "2017-04-03T00:12:08.055470",
     "start_time": "2017-04-03T00:12:07.915666"
    },
    "collapsed": false
   },
   "outputs": [
    {
     "data": {
      "image/png": "[encoded data removed]",
      "text/plain": [
       "<matplotlib.figure.Figure at 0x7fea54391f98>"
      ]
     },
     "metadata": {},
     "output_type": "display_data"
    }
   ],
   "source": [
    "for i in range(len(connection_proba)):\n",
    "    plt.plot(rho_exp_list,connection_proba[i],label=\"f = \"+str(f_list[i]))\n",
    "plt.legend()\n",
    "# plt.ylim(0,0.00005)\n",
    "# y_max_plot = np.max(proba_all[0][1:])\n",
    "# plt.ylim(0,y_max_plot*1.2)\n",
    "plt.ylabel('Connection probability')\n",
    "plt.xlabel('Robustness parameter')\n",
    "# plt.title('Connection probability (i.e. P(W_ij) > 0), for N = '+str(N))\n",
    "plt.show()"
   ]
  },
  {
   "cell_type": "code",
   "execution_count": null,
   "metadata": {
    "collapsed": true
   },
   "outputs": [],
   "source": []
  },
  {
   "cell_type": "code",
   "execution_count": null,
   "metadata": {
    "collapsed": true
   },
   "outputs": [],
   "source": []
  },
  {
   "cell_type": "code",
   "execution_count": null,
   "metadata": {
    "collapsed": true
   },
   "outputs": [],
   "source": []
  },
  {
   "cell_type": "code",
   "execution_count": null,
   "metadata": {
    "collapsed": true
   },
   "outputs": [],
   "source": []
  },
  {
   "cell_type": "markdown",
   "metadata": {},
   "source": [
    "# Joint distribution of weights"
   ]
  },
  {
   "cell_type": "code",
   "execution_count": 54,
   "metadata": {
    "ExecuteTime": {
     "end_time": "2017-04-02T17:32:24.772767",
     "start_time": "2017-04-02T17:32:24.741576"
    },
    "collapsed": true
   },
   "outputs": [],
   "source": [
    "def get_lambda_value(B):\n",
    "    y = y_1(B)\n",
    "    z = get_z_as_y(y)\n",
    "    \n",
    "    def tau_eps(eps):\n",
    "        if eps == 1: #tau_minus\n",
    "            return -y+z\n",
    "        if eps == -1: #tau_plus\n",
    "            return -y-z\n",
    "    num = (np.sum([p_eps(eps)*eps*(G(eps) - tau_eps(eps)*H(tau_eps(eps))) for eps in [-1,1]]))**2\n",
    "    denom = 4*f*(1-f) * np.sum([p_eps(eps) * ((1+tau_eps(eps)**2)*H(tau_eps(eps)) - tau_eps(eps)*G(tau_eps(eps))) \\\n",
    "                                for eps in [-1,1]])\n",
    "    return num/denom\n",
    "\n",
    "def joint_distrib(w_ij,w_ji,lambda_value,B,w_s):\n",
    "    \n",
    "    S = 0\n",
    "    \n",
    "    if w_ij*w_ji == 0:\n",
    "        func = lambda z: 1/sqrt(2*pi) * exp(-1/2 * z**2) * H(-(B+z*sqrt(lambda_value))/sqrt(1-lambda_value))\n",
    "        I = quad(func, -np.inf, +np.inf)[0]\n",
    "#         print(I)\n",
    "        S += I\n",
    "        \n",
    "    def term_2(w):\n",
    "        return 1/(sqrt(2*pi) * w_s) * exp(-1/2*(B+w/w_s))*\\\n",
    "            H(-sqrt((1-lambda_value)/(1+lambda_value))*B + lambda_value/sqrt(1-lambda_value**2)*w/w_s)\n",
    "    if w_ji > 0 and w_ij == 0:\n",
    "        S += term_2(w_ji)\n",
    "    if w_ij > 0 and w_ji == 0:\n",
    "        S += term_2(w_ij)\n",
    "    \n",
    "    if w_ij > 0 and w_ji > 0:\n",
    "        term_3 = 1/(2*pi*sqrt(1-lambda_value**2)) * \\\n",
    "            exp(-1/(2*(1-lambda_value**2)) * ((B+w_ij/w_s)**2 + (B+w_ji/w_s)**2 - 2*lambda_value * (B+w_ij/w_s) * (B+w_ji/w_s)) )\n",
    "        S += term_3\n",
    "        \n",
    "    return S"
   ]
  },
  {
   "cell_type": "code",
   "execution_count": 154,
   "metadata": {
    "ExecuteTime": {
     "end_time": "2017-04-03T00:40:34.187609",
     "start_time": "2017-04-03T00:39:49.321840"
    },
    "collapsed": false
   },
   "outputs": [
    {
     "name": "stdout",
     "output_type": "stream",
     "text": [
      "rho = 6.531972647421808\n",
      "The solution is B_value = 1.321550\n",
      "(1000, 1000)\n"
     ]
    },
    {
     "data": {
      "image/png": "[encoded data removed]",
      "text/plain": [
       "<matplotlib.figure.Figure at 0x7fea4f0eb748>"
      ]
     },
     "metadata": {},
     "output_type": "display_data"
    }
   ],
   "source": [
    "f = 0.25\n",
    "N = 800\n",
    "theta = 2 #theta is the one of our article\n",
    "\n",
    "T = N*theta\n",
    "K = 0.4*T\n",
    "w_mean = theta/f\n",
    "\n",
    "\n",
    "def get_rho(f,N,w_mean,K):\n",
    "    return K/(w_mean*sqrt(f*(1-f)*N))\n",
    "rho = get_rho(f,N,w_mean,K)\n",
    "print(\"rho = \"+str(rho))\n",
    "\n",
    "B = B_from_rho(rho)\n",
    "w_s = get_w_s(B,w_mean)\n",
    "\n",
    "\n",
    "lambda_value = get_lambda_value(B)\n",
    "\n",
    "connection_joint = []\n",
    "linspace_w = np.linspace(0,5,1000)\n",
    "X,Y = np.meshgrid(linspace_w,linspace_w) #X=w_ij, Y=w_ji\n",
    "Z = []\n",
    "for w_ij in linspace_w:\n",
    "    Z_absc = []\n",
    "    for w_ji in linspace_w:\n",
    "        Z_absc.append(joint_distrib(w_ij,w_ji,lambda_value,B,w_s))\n",
    "    Z.append(Z_absc)\n",
    "Z = np.array(Z)\n",
    "\n",
    "print(Z.shape)\n",
    "\n",
    "# Plot the density map using nearest-neighbor interpolation\n",
    "plt.pcolormesh(X,Y,Z)\n",
    "plt.title('Density')\n",
    "plt.show()"
   ]
  },
  {
   "cell_type": "code",
   "execution_count": 155,
   "metadata": {
    "ExecuteTime": {
     "end_time": "2017-04-03T00:40:34.819505",
     "start_time": "2017-04-03T00:40:34.189031"
    },
    "collapsed": false
   },
   "outputs": [
    {
     "data": {
      "image/png": "[encoded data removed]",
      "text/plain": [
       "<matplotlib.figure.Figure at 0x7fea54183f60>"
      ]
     },
     "metadata": {},
     "output_type": "display_data"
    }
   ],
   "source": [
    "# Plot the density map using nearest-neighbor interpolation\n",
    "plt.pcolormesh(X,Y,Z)\n",
    "plt.xlim(0,0.1)\n",
    "plt.ylim(0,0.1)\n",
    "plt.title('Density')\n",
    "plt.show()"
   ]
  },
  {
   "cell_type": "code",
   "execution_count": 156,
   "metadata": {
    "ExecuteTime": {
     "end_time": "2017-04-03T00:40:35.892900",
     "start_time": "2017-04-03T00:40:34.820901"
    },
    "collapsed": false
   },
   "outputs": [
    {
     "data": {
      "image/png": "[encoded data removed]",
      "text/plain": [
       "<matplotlib.figure.Figure at 0x7fea521f09b0>"
      ]
     },
     "metadata": {},
     "output_type": "display_data"
    }
   ],
   "source": [
    "#Without the axes\n",
    "\n",
    "init = 1\n",
    "X_prime = np.copy(X[init:,init:])\n",
    "Y_prime = np.copy(Y[init:,init:])\n",
    "Z_prime = np.copy(Z[init:,init:])\n",
    "\n",
    "# Plot the density map using nearest-neighbor interpolation\n",
    "plt.pcolormesh(X_prime,Y_prime,Z_prime)\n",
    "plt.colorbar()\n",
    "# plt.xlim(0,0.1)\n",
    "# plt.ylim(0,5\n",
    "# plt.title('Density')\n",
    "\n",
    "CS = plt.contour(X_prime, Y_prime, Z_prime)\n",
    "plt.clabel(CS, inline=1, fontsize=15,color='b')\n",
    "plt.xlabel('w_ij')\n",
    "plt.ylabel('w_ji')\n",
    "plt.show()"
   ]
  },
  {
   "cell_type": "code",
   "execution_count": 60,
   "metadata": {
    "ExecuteTime": {
     "end_time": "2017-04-02T18:38:30.379686",
     "start_time": "2017-04-02T18:38:30.373981"
    },
    "collapsed": true
   },
   "outputs": [],
   "source": [
    "#AFFICHAGE\n",
    "\n",
    "\n",
    "\n",
    "#-----------Contour (traits pas pleins) de la densité de points---------------------------\n",
    "\n",
    "\n",
    "# #Contour plot of the density\n",
    "# side_x = np.linspace(np.min(chain_X[:,0]),np.max(chain_X[:,0]),1000)\n",
    "# side_y = np.linspace(np.min(chain_X[:,1]),np.max(chain_X[:,1]),1000)\n",
    "# X,Y = np.meshgrid(side_x,side_y)\n",
    "# Z = target(X,Y)\n",
    "# CS = plt.contour(X, Y, Z)\n",
    "# plt.clabel(CS, inline=1, fontsize=15)\n",
    "\n",
    "# plt.title('Original f density (contour plot) with samples from the algorithm WITH ADAPTATION')\n",
    "# plt.show()\n",
    "\n",
    "\n",
    "#---------------Plotter une densité (pas des points, mais une formule)------------------------\n",
    "\n",
    "# # Sample data\n",
    "# side_x = np.linspace(-5,5,1000)\n",
    "# side_y = np.linspace(0,5,1000)\n",
    "# X,Y = np.meshgrid(side_x,side_y)\n",
    "# print(X.shape)\n",
    "# # Z = np.exp(-((X-1)**2+Y**2))\n",
    "\n",
    "# def f(x,y):\n",
    "#     return 4/(2*pi) * y**1.5 * np.exp(-y * (x**2/2 + 2)) * (y>=0)\n",
    "\n",
    "# Z = f(X,Y)\n",
    "# print(Z.shape)\n",
    "\n",
    "# # Plot the density map using nearest-neighbor interpolation\n",
    "# plt.pcolormesh(X,Y,Z)\n",
    "# plt.title('Original f density')\n",
    "# plt.show()\n",
    "\n",
    "\n",
    "#------------------Faire un graphe de type densité avec juste des points------------------------\n",
    "\n",
    "# plt.hist2d(chain_x, chain_y, bins=50,range=np.array([[-5,5],[0,5]]))\n",
    "# plt.colorbar()\n",
    "# plt.title('Sampled density from Gibbs sampler')\n",
    "# plt.show()"
   ]
  },
  {
   "cell_type": "code",
   "execution_count": 115,
   "metadata": {
    "ExecuteTime": {
     "end_time": "2017-04-02T23:13:39.670114",
     "start_time": "2017-04-02T23:13:39.664455"
    },
    "collapsed": false
   },
   "outputs": [
    {
     "name": "stdout",
     "output_type": "stream",
     "text": [
      "[[ 0.  1.  1.  1.  1.]\n",
      " [ 1.  0.  1.  1.  1.]\n",
      " [ 1.  1.  0.  1.  1.]\n",
      " [ 1.  1.  1.  0.  1.]\n",
      " [ 1.  1.  1.  1.  0.]]\n"
     ]
    }
   ],
   "source": [
    "a = np.ones((5,5))\n",
    "np.fill_diagonal(a,0)\n",
    "print(a)"
   ]
  },
  {
   "cell_type": "code",
   "execution_count": null,
   "metadata": {
    "collapsed": true
   },
   "outputs": [],
   "source": []
  }
 ],
 "metadata": {
  "kernelspec": {
   "display_name": "Python [conda root]",
   "language": "python",
   "name": "conda-root-py"
  },
  "language_info": {
   "codemirror_mode": {
    "name": "ipython",
    "version": 3
   },
   "file_extension": ".py",
   "mimetype": "text/x-python",
   "name": "python",
   "nbconvert_exporter": "python",
   "pygments_lexer": "ipython3",
   "version": "3.5.2"
  }
 },
 "nbformat": 4,
 "nbformat_minor": 2
}
